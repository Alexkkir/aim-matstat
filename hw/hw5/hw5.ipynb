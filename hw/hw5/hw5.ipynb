{
 "cells": [
  {
   "attachments": {},
   "cell_type": "markdown",
   "metadata": {},
   "source": [
    "# Домашнее задание №5. Кириллов Алексей"
   ]
  },
  {
   "attachments": {},
   "cell_type": "markdown",
   "metadata": {},
   "source": [
    "# Задание 1\n",
    "\n",
    "Рассмотрим простейшую линейную регрессию\n",
    "$$\n",
    "y_i = \\alpha + \\beta x_i + \\varepsilon_i, \\quad i = \\overline{1, n}\n",
    "$$\n",
    "где $\\varepsilon_i - \\text{i.i.d.} \\sim \\mathcal{N}(0, \\sigma^2)$ и $x_1, \\dots, x_n$ - детерминированные точки, хотя бы две из которых различны. Обозначим через $\\hat \\alpha, \\hat \\beta$ оценки параметров $\\alpha, \\beta$, полученные методом наименьших квадратов\n",
    "$$\n",
    "(\\hat \\alpha, \\hat \\beta) := \\operatorname{argmin}_{\\alpha, \\beta} \\mathcal{R} (\\alpha, \\beta),\n",
    "\\quad \\mathcal{R} (\\alpha, \\beta) := \\sum_{i=1}^n (y_i - \\alpha - \\beta x_i)^2\n",
    "$$\n",
    "Докажите, что эти оценки имеют нормальное распределение и являются несмещёнными оценками параметров $\\alpha, \\beta$."
   ]
  },
  {
   "attachments": {},
   "cell_type": "markdown",
   "metadata": {},
   "source": [
    "*Решение.* Найдем аналитические выражения для $\\hat \\alpha, \\hat \\beta$. Для этого продифференцируем по $\\alpha, \\beta$ функционал $\\mathcal{R} (\\alpha, \\beta)$ и приравняем к нулю:\n",
    "$$\n",
    "\\begin{cases}\n",
    "\\frac{\\partial \\mathcal{R}}{\\partial \\alpha} = -2 \\sum_{i=1}^n (y_i - \\alpha - \\beta x_i) = 0 \\\\\n",
    "\\frac{\\partial \\mathcal{R}}{\\partial \\beta} = -2 \\sum_{i=1}^n (y_i - \\alpha - \\beta x_i) x_i = 0\n",
    "\\end{cases}\n",
    "$$\n",
    "Отсюда получаем\n",
    "$$\n",
    "\\begin{cases}\n",
    "    \\alpha +  \\beta \\bar x = \\bar y \\\\\n",
    "    \\alpha \\bar x + \\beta \\overline{x^2} = \\overline{xy}\n",
    "\\end{cases}\n",
    "$$\n",
    "где\n",
    "$$\n",
    "\\bar x = {\\sum_{i=1}^n x_i \\over n}, \\quad \\bar y = {\\sum_{i=1}^n y_i \\over n}, \\quad \\overline{x^2} = {\\sum_{i=1}^n x_i^2 \\over n}, \\quad \\overline{xy} = {\\sum_{i=1}^n x_i y_i \\over n}\n",
    "$$\n",
    "Преобразовывая, находим\n",
    "$$\n",
    "\\begin{cases}\n",
    "    \\hat \\alpha = \\bar y - \\hat \\beta \\bar x \\\\\n",
    "    \\hat \\beta = \\frac{\\overline{xy} - \\bar x \\bar y}{\\overline{x^2} - \\bar x^2}\n",
    "\\end{cases}\n",
    "$$"
   ]
  },
  {
   "attachments": {},
   "cell_type": "markdown",
   "metadata": {},
   "source": [
    "Проверим, что в этих точках у функции минимум. Для этого найдем вторые производные:\n",
    "$$\n",
    "\\begin{cases}\n",
    "    \\frac{\\partial^2 \\mathcal{R}}{\\partial \\alpha^2} = 2n \\\\\n",
    "    \\frac{\\partial^2 \\mathcal{R}}{\\partial \\beta^2} = 2 \\sum_{i=1}^n x_i^2 \\\\\n",
    "    \\frac{\\partial^2 \\mathcal{R}}{\\partial \\alpha \\partial \\beta} = 2 \\sum_{i=1}^n x_i\n",
    "\\end{cases}\n",
    "$$\n",
    "Посчитаем определитель гессиана в точке $(\\hat \\alpha, \\hat \\beta)$:\n",
    "$$\n",
    "\\begin{vmatrix} 2n & 2 \\sum_{i=1}^n x_i \\\\ 2 \\sum_{i=1}^n x_i & 2 \\sum_{i=1}^n x_i^2 \\end{vmatrix} = 2n \\cdot \\left(2 \\sum_{i=1}^n x_i^2\\right) - \\left(2 \\sum_{i=1}^n x_i \\right)\\cdot \\left( 2 \\sum_{i=1}^n x_i\\right) = 2n \\cdot \\left(2 \\sum_{i=1}^n x_i^2\\right)  - 4 \\left( \\sum_{i=1}^n x_i \\right)^2 = 4n \\left [{\\sum_{i=1}^n x_i^2 \\over n} - \\left( {\\sum_{i=1}^n x_i \\over n} \\right)^2 \\right ] > 0\n",
    "$$\n",
    "по неравенству о средних. Значит, в точке $(\\hat \\alpha, \\hat \\beta)$ находится локальный минимум. А так как функция $\\mathcal{R}$ везде дважды дифференцируема, то этот минимум будет глобальным и единственным."
   ]
  },
  {
   "attachments": {},
   "cell_type": "markdown",
   "metadata": {},
   "source": [
    "Проверим, что $\\hat \\alpha, \\hat \\beta$ имеют нормальное распределение. Будем пользоваться тем, что 1) сумма нормальных величин нормальна и 2) нормальная величина, умоноженная на константу, также нормальна. Запишем серию переходов:\n",
    "$$\n",
    "\\begin{align*}\n",
    "y_i &\\sim \\mathcal{N} \\\\\n",
    "\\Rightarrow {\\sum y_i \\over n} &\\sim \\mathcal{N}, \\text{ то есть } \\bar y \\sim \\mathcal{N} \\\\\n",
    "x_i y_i &\\sim \\mathcal{N} \\Rightarrow {\\sum x_i y_i \\over N} \\sim \\mathcal{N}, \\text{ то есть } \\overline{xy} \\sim \\mathcal{N} \\\\\n",
    "\\end{align*}\n",
    "$$\n",
    "Т.к. $\\bar x, \\overline{x^2}$ - константы, то $\\hat \\alpha, \\hat \\beta$ - линейные комбинации нормальных величин, а значит, они имеют нормальное распределение."
   ]
  },
  {
   "attachments": {},
   "cell_type": "markdown",
   "metadata": {},
   "source": [
    "Теперь докажем несмещенность $\\hat \\alpha, \\hat \\beta$. Для этого найдем матожидание $\\hat \\alpha, \\hat \\beta$:\n",
    "$$\n",
    "\\mathbb{E} \\hat \\beta = \\mathbb{E} {\\overline{xy} - \\bar x \\bar y \\over \\overline{x^2} - \\bar x^2} = {1 \\over \\overline{x^2} - \\bar x^2} \\Big ( \\mathbb{E} \\overline {xy} - \\mathbb{E} \\bar x \\bar y \\Big)\n",
    "$$\n",
    "$$\n",
    "\\mathbb{E} \\bar x \\bar y = \\mathbb{E} \\Big[\\sum {x (\\beta x_i + \\alpha + \\varepsilon_i) \\over n} \\Big] = \\sum {\\mathbb{E} x_i (\\beta x_i + \\alpha + \\varepsilon_i) \\over n} = \\sum {\\beta x_i^2 + \\alpha x_i \\over n} = \\beta \\overline{x^2} + \\alpha \\bar x\n",
    "$$\n",
    "$$\n",
    "\\mathbb{E} [\\bar x \\bar y] = \\bar x \\mathbb{y} = \\bar x \\cdot (\\beta \\bar x + \\alpha)\n",
    "$$\n",
    "Поэтому\n",
    "$$\n",
    "\\mathbb{E} \\hat \\beta = {1 \\over \\overline{x^2} - \\bar x^2}   \\Big( (\\beta \\overline{x^2} + \\alpha \\bar x) - (\\beta \\bar x^2 + \\alpha \\bar x) \\Big) = \\beta\n",
    "$$\n",
    "Найдем матожидание $\\hat \\alpha$:\n",
    "$$\n",
    "\\mathbb{E} \\hat \\alpha = \\mathbb{E} [\\bar y -  \\hat \\beta \\bar x] = (\\alpha + \\beta \\bar x ) - \\bar x \\mathbb{E} \\hat \\beta = \\alpha + \\beta \\bar x - \\beta \\bar x = \\alpha\n",
    "$$"
   ]
  },
  {
   "attachments": {},
   "cell_type": "markdown",
   "metadata": {},
   "source": [
    "# Задание 2\n",
    "\n",
    "База данных PimaIndiansDiabetes2 содержит данные о различных медицинских показателях 768 жителей Индии. Информация о базе доступна по [ссылке](https://rdrr.io/cran/mlbench/man/PimaIndiansDiabetes.html) Целью этого упражнения является анализ взаимосвязи переменной diabetes (индикатор болезни диабетом) с остальными переменными."
   ]
  },
  {
   "cell_type": "code",
   "execution_count": 1,
   "metadata": {
    "vscode": {
     "languageId": "r"
    }
   },
   "outputs": [],
   "source": [
    "# install.packages(\"mlbench\")\n",
    "library(mlbench)\n",
    "data(PimaIndiansDiabetes2)"
   ]
  },
  {
   "cell_type": "code",
   "execution_count": 2,
   "metadata": {
    "vscode": {
     "languageId": "r"
    }
   },
   "outputs": [
    {
     "data": {
      "text/plain": [
       "    pregnant         glucose         pressure         triceps     \n",
       " Min.   : 0.000   Min.   : 44.0   Min.   : 24.00   Min.   : 7.00  \n",
       " 1st Qu.: 1.000   1st Qu.: 99.0   1st Qu.: 64.00   1st Qu.:22.00  \n",
       " Median : 3.000   Median :117.0   Median : 72.00   Median :29.00  \n",
       " Mean   : 3.845   Mean   :121.7   Mean   : 72.41   Mean   :29.15  \n",
       " 3rd Qu.: 6.000   3rd Qu.:141.0   3rd Qu.: 80.00   3rd Qu.:36.00  \n",
       " Max.   :17.000   Max.   :199.0   Max.   :122.00   Max.   :99.00  \n",
       "                  NA's   :5       NA's   :35       NA's   :227    \n",
       "    insulin            mass          pedigree           age        diabetes \n",
       " Min.   : 14.00   Min.   :18.20   Min.   :0.0780   Min.   :21.00   neg:500  \n",
       " 1st Qu.: 76.25   1st Qu.:27.50   1st Qu.:0.2437   1st Qu.:24.00   pos:268  \n",
       " Median :125.00   Median :32.30   Median :0.3725   Median :29.00            \n",
       " Mean   :155.55   Mean   :32.46   Mean   :0.4719   Mean   :33.24            \n",
       " 3rd Qu.:190.00   3rd Qu.:36.60   3rd Qu.:0.6262   3rd Qu.:41.00            \n",
       " Max.   :846.00   Max.   :67.10   Max.   :2.4200   Max.   :81.00            \n",
       " NA's   :374      NA's   :11                                                "
      ]
     },
     "metadata": {},
     "output_type": "display_data"
    }
   ],
   "source": [
    "summary(PimaIndiansDiabetes2)"
   ]
  },
  {
   "cell_type": "code",
   "execution_count": 3,
   "metadata": {
    "vscode": {
     "languageId": "r"
    }
   },
   "outputs": [
    {
     "data": {
      "text/html": [
       "<table class=\"dataframe\">\n",
       "<caption>A data.frame: 6 × 9</caption>\n",
       "<thead>\n",
       "\t<tr><th></th><th scope=col>pregnant</th><th scope=col>glucose</th><th scope=col>pressure</th><th scope=col>triceps</th><th scope=col>insulin</th><th scope=col>mass</th><th scope=col>pedigree</th><th scope=col>age</th><th scope=col>diabetes</th></tr>\n",
       "\t<tr><th></th><th scope=col>&lt;dbl&gt;</th><th scope=col>&lt;dbl&gt;</th><th scope=col>&lt;dbl&gt;</th><th scope=col>&lt;dbl&gt;</th><th scope=col>&lt;dbl&gt;</th><th scope=col>&lt;dbl&gt;</th><th scope=col>&lt;dbl&gt;</th><th scope=col>&lt;dbl&gt;</th><th scope=col>&lt;fct&gt;</th></tr>\n",
       "</thead>\n",
       "<tbody>\n",
       "\t<tr><th scope=row>1</th><td>6</td><td>148</td><td>72</td><td>35</td><td> NA</td><td>33.6</td><td>0.627</td><td>50</td><td>pos</td></tr>\n",
       "\t<tr><th scope=row>2</th><td>1</td><td> 85</td><td>66</td><td>29</td><td> NA</td><td>26.6</td><td>0.351</td><td>31</td><td>neg</td></tr>\n",
       "\t<tr><th scope=row>3</th><td>8</td><td>183</td><td>64</td><td>NA</td><td> NA</td><td>23.3</td><td>0.672</td><td>32</td><td>pos</td></tr>\n",
       "\t<tr><th scope=row>4</th><td>1</td><td> 89</td><td>66</td><td>23</td><td> 94</td><td>28.1</td><td>0.167</td><td>21</td><td>neg</td></tr>\n",
       "\t<tr><th scope=row>5</th><td>0</td><td>137</td><td>40</td><td>35</td><td>168</td><td>43.1</td><td>2.288</td><td>33</td><td>pos</td></tr>\n",
       "\t<tr><th scope=row>6</th><td>5</td><td>116</td><td>74</td><td>NA</td><td> NA</td><td>25.6</td><td>0.201</td><td>30</td><td>neg</td></tr>\n",
       "</tbody>\n",
       "</table>\n"
      ],
      "text/latex": [
       "A data.frame: 6 × 9\n",
       "\\begin{tabular}{r|lllllllll}\n",
       "  & pregnant & glucose & pressure & triceps & insulin & mass & pedigree & age & diabetes\\\\\n",
       "  & <dbl> & <dbl> & <dbl> & <dbl> & <dbl> & <dbl> & <dbl> & <dbl> & <fct>\\\\\n",
       "\\hline\n",
       "\t1 & 6 & 148 & 72 & 35 &  NA & 33.6 & 0.627 & 50 & pos\\\\\n",
       "\t2 & 1 &  85 & 66 & 29 &  NA & 26.6 & 0.351 & 31 & neg\\\\\n",
       "\t3 & 8 & 183 & 64 & NA &  NA & 23.3 & 0.672 & 32 & pos\\\\\n",
       "\t4 & 1 &  89 & 66 & 23 &  94 & 28.1 & 0.167 & 21 & neg\\\\\n",
       "\t5 & 0 & 137 & 40 & 35 & 168 & 43.1 & 2.288 & 33 & pos\\\\\n",
       "\t6 & 5 & 116 & 74 & NA &  NA & 25.6 & 0.201 & 30 & neg\\\\\n",
       "\\end{tabular}\n"
      ],
      "text/markdown": [
       "\n",
       "A data.frame: 6 × 9\n",
       "\n",
       "| <!--/--> | pregnant &lt;dbl&gt; | glucose &lt;dbl&gt; | pressure &lt;dbl&gt; | triceps &lt;dbl&gt; | insulin &lt;dbl&gt; | mass &lt;dbl&gt; | pedigree &lt;dbl&gt; | age &lt;dbl&gt; | diabetes &lt;fct&gt; |\n",
       "|---|---|---|---|---|---|---|---|---|---|\n",
       "| 1 | 6 | 148 | 72 | 35 |  NA | 33.6 | 0.627 | 50 | pos |\n",
       "| 2 | 1 |  85 | 66 | 29 |  NA | 26.6 | 0.351 | 31 | neg |\n",
       "| 3 | 8 | 183 | 64 | NA |  NA | 23.3 | 0.672 | 32 | pos |\n",
       "| 4 | 1 |  89 | 66 | 23 |  94 | 28.1 | 0.167 | 21 | neg |\n",
       "| 5 | 0 | 137 | 40 | 35 | 168 | 43.1 | 2.288 | 33 | pos |\n",
       "| 6 | 5 | 116 | 74 | NA |  NA | 25.6 | 0.201 | 30 | neg |\n",
       "\n"
      ],
      "text/plain": [
       "  pregnant glucose pressure triceps insulin mass pedigree age diabetes\n",
       "1 6        148     72       35       NA     33.6 0.627    50  pos     \n",
       "2 1         85     66       29       NA     26.6 0.351    31  neg     \n",
       "3 8        183     64       NA       NA     23.3 0.672    32  pos     \n",
       "4 1         89     66       23       94     28.1 0.167    21  neg     \n",
       "5 0        137     40       35      168     43.1 2.288    33  pos     \n",
       "6 5        116     74       NA       NA     25.6 0.201    30  neg     "
      ]
     },
     "metadata": {},
     "output_type": "display_data"
    }
   ],
   "source": [
    "head(PimaIndiansDiabetes2)"
   ]
  },
  {
   "attachments": {},
   "cell_type": "markdown",
   "metadata": {},
   "source": [
    "### Пункт 1\n",
    "\n",
    "При помощи инструментов weights of evidence и information value разделите все переменные, кроме diabetes, на 3 группы (используя diabetes как event), и определите переменные, для которых information value превышает 0.4."
   ]
  },
  {
   "cell_type": "code",
   "execution_count": 4,
   "metadata": {
    "vscode": {
     "languageId": "r"
    }
   },
   "outputs": [],
   "source": [
    "library(Information)"
   ]
  },
  {
   "cell_type": "code",
   "execution_count": 5,
   "metadata": {
    "vscode": {
     "languageId": "r"
    }
   },
   "outputs": [
    {
     "data": {
      "text/html": [
       "<table class=\"dataframe\">\n",
       "<caption>A data.frame: 8 × 2</caption>\n",
       "<thead>\n",
       "\t<tr><th></th><th scope=col>Variable</th><th scope=col>IV</th></tr>\n",
       "\t<tr><th></th><th scope=col>&lt;chr&gt;</th><th scope=col>&lt;dbl&gt;</th></tr>\n",
       "</thead>\n",
       "<tbody>\n",
       "\t<tr><th scope=row>2</th><td>glucose </td><td>0.9871522</td></tr>\n",
       "\t<tr><th scope=row>8</th><td>age     </td><td>0.4676842</td></tr>\n",
       "\t<tr><th scope=row>6</th><td>mass    </td><td>0.4640067</td></tr>\n",
       "\t<tr><th scope=row>5</th><td>insulin </td><td>0.3566771</td></tr>\n",
       "\t<tr><th scope=row>4</th><td>triceps </td><td>0.2725837</td></tr>\n",
       "\t<tr><th scope=row>1</th><td>pregnant</td><td>0.1792761</td></tr>\n",
       "\t<tr><th scope=row>7</th><td>pedigree</td><td>0.1295080</td></tr>\n",
       "\t<tr><th scope=row>3</th><td>pressure</td><td>0.1208864</td></tr>\n",
       "</tbody>\n",
       "</table>\n"
      ],
      "text/latex": [
       "A data.frame: 8 × 2\n",
       "\\begin{tabular}{r|ll}\n",
       "  & Variable & IV\\\\\n",
       "  & <chr> & <dbl>\\\\\n",
       "\\hline\n",
       "\t2 & glucose  & 0.9871522\\\\\n",
       "\t8 & age      & 0.4676842\\\\\n",
       "\t6 & mass     & 0.4640067\\\\\n",
       "\t5 & insulin  & 0.3566771\\\\\n",
       "\t4 & triceps  & 0.2725837\\\\\n",
       "\t1 & pregnant & 0.1792761\\\\\n",
       "\t7 & pedigree & 0.1295080\\\\\n",
       "\t3 & pressure & 0.1208864\\\\\n",
       "\\end{tabular}\n"
      ],
      "text/markdown": [
       "\n",
       "A data.frame: 8 × 2\n",
       "\n",
       "| <!--/--> | Variable &lt;chr&gt; | IV &lt;dbl&gt; |\n",
       "|---|---|---|\n",
       "| 2 | glucose  | 0.9871522 |\n",
       "| 8 | age      | 0.4676842 |\n",
       "| 6 | mass     | 0.4640067 |\n",
       "| 5 | insulin  | 0.3566771 |\n",
       "| 4 | triceps  | 0.2725837 |\n",
       "| 1 | pregnant | 0.1792761 |\n",
       "| 7 | pedigree | 0.1295080 |\n",
       "| 3 | pressure | 0.1208864 |\n",
       "\n"
      ],
      "text/plain": [
       "  Variable IV       \n",
       "2 glucose  0.9871522\n",
       "8 age      0.4676842\n",
       "6 mass     0.4640067\n",
       "5 insulin  0.3566771\n",
       "4 triceps  0.2725837\n",
       "1 pregnant 0.1792761\n",
       "7 pedigree 0.1295080\n",
       "3 pressure 0.1208864"
      ]
     },
     "metadata": {},
     "output_type": "display_data"
    }
   ],
   "source": [
    "PimaIndiansDiabetes2$diabetes = as.numeric(PimaIndiansDiabetes2$diabetes) - 1\n",
    "x = PimaIndiansDiabetes2\n",
    "\n",
    "IV=create_infotables(data=x, y=\"diabetes\",bins=3)\n",
    "IV$Summary"
   ]
  },
  {
   "attachments": {},
   "cell_type": "markdown",
   "metadata": {},
   "source": [
    "Information value > 0.4 для переменных gluscore, age, mass"
   ]
  },
  {
   "attachments": {},
   "cell_type": "markdown",
   "metadata": {},
   "source": [
    "### Пункт 2\n",
    "\n",
    "Перекодируйте выбранные на предыдущем шаге переменные в соответствии с полученными группами. Исследуйте зависимость каждой из этих переменных c фактом наличия диабета при помощи анализа соответствующих таблиц сопряженности."
   ]
  },
  {
   "cell_type": "code",
   "execution_count": 6,
   "metadata": {
    "vscode": {
     "languageId": "r"
    }
   },
   "outputs": [
    {
     "data": {
      "text/html": [
       "<table class=\"dataframe\">\n",
       "<caption>A data.frame: 4 × 5</caption>\n",
       "<thead>\n",
       "\t<tr><th scope=col>glucose</th><th scope=col>N</th><th scope=col>Percent</th><th scope=col>WOE</th><th scope=col>IV</th></tr>\n",
       "\t<tr><th scope=col>&lt;chr&gt;</th><th scope=col>&lt;dbl&gt;</th><th scope=col>&lt;dbl&gt;</th><th scope=col>&lt;dbl&gt;</th><th scope=col>&lt;dbl&gt;</th></tr>\n",
       "</thead>\n",
       "<tbody>\n",
       "\t<tr><td>NA       </td><td>  5</td><td>0.006510417</td><td> 0.2181560</td><td>0.0003190939</td></tr>\n",
       "\t<tr><td>[44,104] </td><td>246</td><td>0.320312500</td><td>-1.4696137</td><td>0.4959518133</td></tr>\n",
       "\t<tr><td>[105,129]</td><td>259</td><td>0.337239583</td><td>-0.2365801</td><td>0.5140943327</td></tr>\n",
       "\t<tr><td>[130,199]</td><td>258</td><td>0.335937500</td><td> 1.1468693</td><td>0.9871522269</td></tr>\n",
       "</tbody>\n",
       "</table>\n"
      ],
      "text/latex": [
       "A data.frame: 4 × 5\n",
       "\\begin{tabular}{lllll}\n",
       " glucose & N & Percent & WOE & IV\\\\\n",
       " <chr> & <dbl> & <dbl> & <dbl> & <dbl>\\\\\n",
       "\\hline\n",
       "\t NA        &   5 & 0.006510417 &  0.2181560 & 0.0003190939\\\\\n",
       "\t {[}44,104{]}  & 246 & 0.320312500 & -1.4696137 & 0.4959518133\\\\\n",
       "\t {[}105,129{]} & 259 & 0.337239583 & -0.2365801 & 0.5140943327\\\\\n",
       "\t {[}130,199{]} & 258 & 0.335937500 &  1.1468693 & 0.9871522269\\\\\n",
       "\\end{tabular}\n"
      ],
      "text/markdown": [
       "\n",
       "A data.frame: 4 × 5\n",
       "\n",
       "| glucose &lt;chr&gt; | N &lt;dbl&gt; | Percent &lt;dbl&gt; | WOE &lt;dbl&gt; | IV &lt;dbl&gt; |\n",
       "|---|---|---|---|---|\n",
       "| NA        |   5 | 0.006510417 |  0.2181560 | 0.0003190939 |\n",
       "| [44,104]  | 246 | 0.320312500 | -1.4696137 | 0.4959518133 |\n",
       "| [105,129] | 259 | 0.337239583 | -0.2365801 | 0.5140943327 |\n",
       "| [130,199] | 258 | 0.335937500 |  1.1468693 | 0.9871522269 |\n",
       "\n"
      ],
      "text/plain": [
       "  glucose   N   Percent     WOE        IV          \n",
       "1 NA          5 0.006510417  0.2181560 0.0003190939\n",
       "2 [44,104]  246 0.320312500 -1.4696137 0.4959518133\n",
       "3 [105,129] 259 0.337239583 -0.2365801 0.5140943327\n",
       "4 [130,199] 258 0.335937500  1.1468693 0.9871522269"
      ]
     },
     "metadata": {},
     "output_type": "display_data"
    }
   ],
   "source": [
    "IV$Tables$glucose"
   ]
  },
  {
   "cell_type": "code",
   "execution_count": 7,
   "metadata": {
    "vscode": {
     "languageId": "r"
    }
   },
   "outputs": [],
   "source": [
    "glucose_int = c(105, 130, 200)"
   ]
  },
  {
   "cell_type": "code",
   "execution_count": 8,
   "metadata": {
    "vscode": {
     "languageId": "r"
    }
   },
   "outputs": [
    {
     "data": {
      "text/html": [
       "<table class=\"dataframe\">\n",
       "<caption>A data.frame: 3 × 5</caption>\n",
       "<thead>\n",
       "\t<tr><th scope=col>age</th><th scope=col>N</th><th scope=col>Percent</th><th scope=col>WOE</th><th scope=col>IV</th></tr>\n",
       "\t<tr><th scope=col>&lt;chr&gt;</th><th scope=col>&lt;dbl&gt;</th><th scope=col>&lt;dbl&gt;</th><th scope=col>&lt;dbl&gt;</th><th scope=col>&lt;dbl&gt;</th></tr>\n",
       "</thead>\n",
       "<tbody>\n",
       "\t<tr><td>[21,24]</td><td>219</td><td>0.2851562</td><td>-1.1788336</td><td>0.3068838</td></tr>\n",
       "\t<tr><td>[25,35]</td><td>279</td><td>0.3632812</td><td> 0.0414055</td><td>0.3075105</td></tr>\n",
       "\t<tr><td>[36,81]</td><td>270</td><td>0.3515625</td><td> 0.6532529</td><td>0.4676842</td></tr>\n",
       "</tbody>\n",
       "</table>\n"
      ],
      "text/latex": [
       "A data.frame: 3 × 5\n",
       "\\begin{tabular}{lllll}\n",
       " age & N & Percent & WOE & IV\\\\\n",
       " <chr> & <dbl> & <dbl> & <dbl> & <dbl>\\\\\n",
       "\\hline\n",
       "\t {[}21,24{]} & 219 & 0.2851562 & -1.1788336 & 0.3068838\\\\\n",
       "\t {[}25,35{]} & 279 & 0.3632812 &  0.0414055 & 0.3075105\\\\\n",
       "\t {[}36,81{]} & 270 & 0.3515625 &  0.6532529 & 0.4676842\\\\\n",
       "\\end{tabular}\n"
      ],
      "text/markdown": [
       "\n",
       "A data.frame: 3 × 5\n",
       "\n",
       "| age &lt;chr&gt; | N &lt;dbl&gt; | Percent &lt;dbl&gt; | WOE &lt;dbl&gt; | IV &lt;dbl&gt; |\n",
       "|---|---|---|---|---|\n",
       "| [21,24] | 219 | 0.2851562 | -1.1788336 | 0.3068838 |\n",
       "| [25,35] | 279 | 0.3632812 |  0.0414055 | 0.3075105 |\n",
       "| [36,81] | 270 | 0.3515625 |  0.6532529 | 0.4676842 |\n",
       "\n"
      ],
      "text/plain": [
       "  age     N   Percent   WOE        IV       \n",
       "1 [21,24] 219 0.2851562 -1.1788336 0.3068838\n",
       "2 [25,35] 279 0.3632812  0.0414055 0.3075105\n",
       "3 [36,81] 270 0.3515625  0.6532529 0.4676842"
      ]
     },
     "metadata": {},
     "output_type": "display_data"
    }
   ],
   "source": [
    "IV$Tables$age"
   ]
  },
  {
   "cell_type": "code",
   "execution_count": 9,
   "metadata": {
    "vscode": {
     "languageId": "r"
    }
   },
   "outputs": [],
   "source": [
    "age_int = c(25, 36, 82)"
   ]
  },
  {
   "cell_type": "code",
   "execution_count": 10,
   "metadata": {
    "vscode": {
     "languageId": "r"
    }
   },
   "outputs": [
    {
     "data": {
      "text/html": [
       "<table class=\"dataframe\">\n",
       "<caption>A data.frame: 4 × 5</caption>\n",
       "<thead>\n",
       "\t<tr><th scope=col>mass</th><th scope=col>N</th><th scope=col>Percent</th><th scope=col>WOE</th><th scope=col>IV</th></tr>\n",
       "\t<tr><th scope=col>&lt;chr&gt;</th><th scope=col>&lt;dbl&gt;</th><th scope=col>&lt;dbl&gt;</th><th scope=col>&lt;dbl&gt;</th><th scope=col>&lt;dbl&gt;</th></tr>\n",
       "</thead>\n",
       "<tbody>\n",
       "\t<tr><td>NA         </td><td> 11</td><td>0.01432292</td><td>-0.8804563</td><td>0.009277644</td></tr>\n",
       "\t<tr><td>[18.2,28.9]</td><td>249</td><td>0.32421875</td><td>-1.1220472</td><td>0.330116168</td></tr>\n",
       "\t<tr><td>[29,34.8]  </td><td>254</td><td>0.33072917</td><td> 0.3221457</td><td>0.365869535</td></tr>\n",
       "\t<tr><td>[34.9,67.1]</td><td>254</td><td>0.33072917</td><td> 0.5290625</td><td>0.464006687</td></tr>\n",
       "</tbody>\n",
       "</table>\n"
      ],
      "text/latex": [
       "A data.frame: 4 × 5\n",
       "\\begin{tabular}{lllll}\n",
       " mass & N & Percent & WOE & IV\\\\\n",
       " <chr> & <dbl> & <dbl> & <dbl> & <dbl>\\\\\n",
       "\\hline\n",
       "\t NA          &  11 & 0.01432292 & -0.8804563 & 0.009277644\\\\\n",
       "\t {[}18.2,28.9{]} & 249 & 0.32421875 & -1.1220472 & 0.330116168\\\\\n",
       "\t {[}29,34.8{]}   & 254 & 0.33072917 &  0.3221457 & 0.365869535\\\\\n",
       "\t {[}34.9,67.1{]} & 254 & 0.33072917 &  0.5290625 & 0.464006687\\\\\n",
       "\\end{tabular}\n"
      ],
      "text/markdown": [
       "\n",
       "A data.frame: 4 × 5\n",
       "\n",
       "| mass &lt;chr&gt; | N &lt;dbl&gt; | Percent &lt;dbl&gt; | WOE &lt;dbl&gt; | IV &lt;dbl&gt; |\n",
       "|---|---|---|---|---|\n",
       "| NA          |  11 | 0.01432292 | -0.8804563 | 0.009277644 |\n",
       "| [18.2,28.9] | 249 | 0.32421875 | -1.1220472 | 0.330116168 |\n",
       "| [29,34.8]   | 254 | 0.33072917 |  0.3221457 | 0.365869535 |\n",
       "| [34.9,67.1] | 254 | 0.33072917 |  0.5290625 | 0.464006687 |\n",
       "\n"
      ],
      "text/plain": [
       "  mass        N   Percent    WOE        IV         \n",
       "1 NA           11 0.01432292 -0.8804563 0.009277644\n",
       "2 [18.2,28.9] 249 0.32421875 -1.1220472 0.330116168\n",
       "3 [29,34.8]   254 0.33072917  0.3221457 0.365869535\n",
       "4 [34.9,67.1] 254 0.33072917  0.5290625 0.464006687"
      ]
     },
     "metadata": {},
     "output_type": "display_data"
    }
   ],
   "source": [
    "IV$Tables$mass"
   ]
  },
  {
   "cell_type": "code",
   "execution_count": 26,
   "metadata": {
    "vscode": {
     "languageId": "r"
    }
   },
   "outputs": [],
   "source": [
    "mass_int = c(29, 34.9, 70)"
   ]
  },
  {
   "attachments": {},
   "cell_type": "markdown",
   "metadata": {},
   "source": [
    "Для того, чтобы проверить, что делаем все правильно, возьмем самую плохую переменную - pressure"
   ]
  },
  {
   "cell_type": "code",
   "execution_count": 35,
   "metadata": {
    "vscode": {
     "languageId": "r"
    }
   },
   "outputs": [
    {
     "data": {
      "text/html": [
       "<table class=\"dataframe\">\n",
       "<caption>A data.frame: 4 × 5</caption>\n",
       "<thead>\n",
       "\t<tr><th scope=col>pressure</th><th scope=col>N</th><th scope=col>Percent</th><th scope=col>WOE</th><th scope=col>IV</th></tr>\n",
       "\t<tr><th scope=col>&lt;chr&gt;</th><th scope=col>&lt;dbl&gt;</th><th scope=col>&lt;dbl&gt;</th><th scope=col>&lt;dbl&gt;</th><th scope=col>&lt;dbl&gt;</th></tr>\n",
       "</thead>\n",
       "<tbody>\n",
       "\t<tr><td>NA      </td><td> 35</td><td>0.04557292</td><td> 0.4517709</td><td>0.009804102</td></tr>\n",
       "\t<tr><td>[24,66] </td><td>238</td><td>0.30989583</td><td>-0.5088927</td><td>0.082871982</td></tr>\n",
       "\t<tr><td>[68,76] </td><td>245</td><td>0.31901042</td><td> 0.0269342</td><td>0.083104340</td></tr>\n",
       "\t<tr><td>[78,122]</td><td>250</td><td>0.32552083</td><td> 0.3336053</td><td>0.120886388</td></tr>\n",
       "</tbody>\n",
       "</table>\n"
      ],
      "text/latex": [
       "A data.frame: 4 × 5\n",
       "\\begin{tabular}{lllll}\n",
       " pressure & N & Percent & WOE & IV\\\\\n",
       " <chr> & <dbl> & <dbl> & <dbl> & <dbl>\\\\\n",
       "\\hline\n",
       "\t NA       &  35 & 0.04557292 &  0.4517709 & 0.009804102\\\\\n",
       "\t {[}24,66{]}  & 238 & 0.30989583 & -0.5088927 & 0.082871982\\\\\n",
       "\t {[}68,76{]}  & 245 & 0.31901042 &  0.0269342 & 0.083104340\\\\\n",
       "\t {[}78,122{]} & 250 & 0.32552083 &  0.3336053 & 0.120886388\\\\\n",
       "\\end{tabular}\n"
      ],
      "text/markdown": [
       "\n",
       "A data.frame: 4 × 5\n",
       "\n",
       "| pressure &lt;chr&gt; | N &lt;dbl&gt; | Percent &lt;dbl&gt; | WOE &lt;dbl&gt; | IV &lt;dbl&gt; |\n",
       "|---|---|---|---|---|\n",
       "| NA       |  35 | 0.04557292 |  0.4517709 | 0.009804102 |\n",
       "| [24,66]  | 238 | 0.30989583 | -0.5088927 | 0.082871982 |\n",
       "| [68,76]  | 245 | 0.31901042 |  0.0269342 | 0.083104340 |\n",
       "| [78,122] | 250 | 0.32552083 |  0.3336053 | 0.120886388 |\n",
       "\n"
      ],
      "text/plain": [
       "  pressure N   Percent    WOE        IV         \n",
       "1 NA        35 0.04557292  0.4517709 0.009804102\n",
       "2 [24,66]  238 0.30989583 -0.5088927 0.082871982\n",
       "3 [68,76]  245 0.31901042  0.0269342 0.083104340\n",
       "4 [78,122] 250 0.32552083  0.3336053 0.120886388"
      ]
     },
     "metadata": {},
     "output_type": "display_data"
    }
   ],
   "source": [
    "IV$Tables$pressure"
   ]
  },
  {
   "cell_type": "code",
   "execution_count": 36,
   "metadata": {
    "vscode": {
     "languageId": "r"
    }
   },
   "outputs": [],
   "source": [
    "pressure_int = c(68, 78, 150)"
   ]
  },
  {
   "attachments": {},
   "cell_type": "markdown",
   "metadata": {},
   "source": [
    "Закодируем переменные в соответствии с группами:"
   ]
  },
  {
   "cell_type": "code",
   "execution_count": 37,
   "metadata": {
    "vscode": {
     "languageId": "r"
    }
   },
   "outputs": [],
   "source": [
    "x = PimaIndiansDiabetes2\n",
    "x$glucose_encoded <- as.integer(rep(NA, 768))\n",
    "x$age_encoded <- as.integer(rep(NA, 768))\n",
    "x$mass_encoded <- as.integer(rep(NA, 768))\n",
    "x$pressure_encoded <- as.integer(rep(NA, 768))\n",
    "my_infinity <- 100000\n",
    "\n",
    "for (i in 1:length(glucose_int)) {\n",
    "    ind <- which(x$glucose < glucose_int[i])\n",
    "    x$glucose_encoded[ind] = i\n",
    "    x$glucose[ind] = my_infinity\n",
    "}\n",
    "\n",
    "for (i in 1:length(age_int)) {\n",
    "    ind <- which(x$age < age_int[i])\n",
    "    x$age_encoded[ind] = i\n",
    "    x$age[ind] = my_infinity\n",
    "}\n",
    "\n",
    "for (i in 1:length(mass_int)) {\n",
    "    ind <- which(x$mass < mass_int[i])\n",
    "    x$mass_encoded[ind] = i\n",
    "    x$mass[ind] = my_infinity\n",
    "}\n",
    "\n",
    "for (i in 1:length(pressure_int)) {\n",
    "    ind <- which(x$pressure < pressure_int[i])\n",
    "    x$pressure_encoded[ind] = i\n",
    "    x$pressure[ind] = my_infinity\n",
    "}\n"
   ]
  },
  {
   "attachments": {},
   "cell_type": "markdown",
   "metadata": {},
   "source": [
    "Критерий Кси-квадрат:"
   ]
  },
  {
   "cell_type": "code",
   "execution_count": 32,
   "metadata": {
    "vscode": {
     "languageId": "r"
    }
   },
   "outputs": [
    {
     "data": {
      "text/plain": [
       "\n",
       "\tPearson's Chi-squared test\n",
       "\n",
       "data:  table(x$glucose_encoded, x$diabetes)\n",
       "X-squared = 153.43, df = 2, p-value < 2.2e-16\n"
      ]
     },
     "metadata": {},
     "output_type": "display_data"
    }
   ],
   "source": [
    "chisq.test(table(x$glucose_encoded, x$diabetes))"
   ]
  },
  {
   "attachments": {},
   "cell_type": "markdown",
   "metadata": {},
   "source": [
    "Вероятность диабета зависит от уровня глюкозы"
   ]
  },
  {
   "cell_type": "code",
   "execution_count": 33,
   "metadata": {
    "vscode": {
     "languageId": "r"
    }
   },
   "outputs": [
    {
     "data": {
      "text/plain": [
       "\n",
       "\tPearson's Chi-squared test\n",
       "\n",
       "data:  table(x$mass_encoded, x$diabetes)\n",
       "X-squared = 68.412, df = 2, p-value = 1.395e-15\n"
      ]
     },
     "metadata": {},
     "output_type": "display_data"
    }
   ],
   "source": [
    "chisq.test(table(x$mass_encoded, x$diabetes))"
   ]
  },
  {
   "attachments": {},
   "cell_type": "markdown",
   "metadata": {},
   "source": [
    "Вероятность диабета зависит от веса человека"
   ]
  },
  {
   "cell_type": "code",
   "execution_count": 34,
   "metadata": {
    "vscode": {
     "languageId": "r"
    }
   },
   "outputs": [
    {
     "data": {
      "text/plain": [
       "\n",
       "\tPearson's Chi-squared test\n",
       "\n",
       "data:  table(x$age_encoded, x$diabetes)\n",
       "X-squared = 71.414, df = 2, p-value = 3.108e-16\n"
      ]
     },
     "metadata": {},
     "output_type": "display_data"
    }
   ],
   "source": [
    "chisq.test(table(x$age_encoded, x$diabetes))"
   ]
  },
  {
   "attachments": {},
   "cell_type": "markdown",
   "metadata": {},
   "source": [
    "Вероятность диабета зависит от возраста человека"
   ]
  },
  {
   "cell_type": "code",
   "execution_count": 38,
   "metadata": {
    "vscode": {
     "languageId": "r"
    }
   },
   "outputs": [
    {
     "data": {
      "text/plain": [
       "\n",
       "\tPearson's Chi-squared test\n",
       "\n",
       "data:  table(x$pressure_encoded, x$diabetes)\n",
       "X-squared = 18.566, df = 2, p-value = 9.297e-05\n"
      ]
     },
     "metadata": {},
     "output_type": "display_data"
    }
   ],
   "source": [
    "chisq.test(table(x$pressure_encoded, x$diabetes))"
   ]
  },
  {
   "attachments": {},
   "cell_type": "markdown",
   "metadata": {},
   "source": [
    "Вероятность диабета зависит от уровня давление, но, как видим, значительно меньше, чем от уровня глюкозы, массы и возраста. Собственно, это и ожидалось"
   ]
  },
  {
   "attachments": {},
   "cell_type": "markdown",
   "metadata": {},
   "source": [
    "### Пункт 3\n",
    "Для описания зависимости переменной diabetes от всех остальных переменных постройте модели логистической регрессии по всем переменным и отдельно по каждой перекодированной переменной. Определите, какая из построенных моделей лучше, используя ROC AUC"
   ]
  },
  {
   "cell_type": "code",
   "execution_count": 15,
   "metadata": {
    "vscode": {
     "languageId": "r"
    }
   },
   "outputs": [],
   "source": [
    "# install.packages(\"PRROC\")\n",
    "library(PRROC)"
   ]
  },
  {
   "cell_type": "code",
   "execution_count": 42,
   "metadata": {
    "vscode": {
     "languageId": "r"
    }
   },
   "outputs": [
    {
     "data": {
      "text/html": [
       "<table class=\"dataframe\">\n",
       "<caption>A data.frame: 6 × 13</caption>\n",
       "<thead>\n",
       "\t<tr><th></th><th scope=col>pregnant</th><th scope=col>glucose</th><th scope=col>pressure</th><th scope=col>triceps</th><th scope=col>insulin</th><th scope=col>mass</th><th scope=col>pedigree</th><th scope=col>age</th><th scope=col>diabetes</th><th scope=col>glucose_encoded</th><th scope=col>age_encoded</th><th scope=col>mass_encoded</th><th scope=col>pressure_encoded</th></tr>\n",
       "\t<tr><th></th><th scope=col>&lt;dbl&gt;</th><th scope=col>&lt;dbl&gt;</th><th scope=col>&lt;dbl&gt;</th><th scope=col>&lt;dbl&gt;</th><th scope=col>&lt;dbl&gt;</th><th scope=col>&lt;dbl&gt;</th><th scope=col>&lt;dbl&gt;</th><th scope=col>&lt;dbl&gt;</th><th scope=col>&lt;dbl&gt;</th><th scope=col>&lt;int&gt;</th><th scope=col>&lt;int&gt;</th><th scope=col>&lt;int&gt;</th><th scope=col>&lt;int&gt;</th></tr>\n",
       "</thead>\n",
       "<tbody>\n",
       "\t<tr><th scope=row>1</th><td>6</td><td>1e+05</td><td>1e+05</td><td>35</td><td> NA</td><td>1e+05</td><td>0.627</td><td>1e+05</td><td>1</td><td>3</td><td>3</td><td>2</td><td>2</td></tr>\n",
       "\t<tr><th scope=row>2</th><td>1</td><td>1e+05</td><td>1e+05</td><td>29</td><td> NA</td><td>1e+05</td><td>0.351</td><td>1e+05</td><td>0</td><td>1</td><td>2</td><td>1</td><td>1</td></tr>\n",
       "\t<tr><th scope=row>3</th><td>8</td><td>1e+05</td><td>1e+05</td><td>NA</td><td> NA</td><td>1e+05</td><td>0.672</td><td>1e+05</td><td>1</td><td>3</td><td>2</td><td>1</td><td>1</td></tr>\n",
       "\t<tr><th scope=row>4</th><td>1</td><td>1e+05</td><td>1e+05</td><td>23</td><td> 94</td><td>1e+05</td><td>0.167</td><td>1e+05</td><td>0</td><td>1</td><td>1</td><td>1</td><td>1</td></tr>\n",
       "\t<tr><th scope=row>5</th><td>0</td><td>1e+05</td><td>1e+05</td><td>35</td><td>168</td><td>1e+05</td><td>2.288</td><td>1e+05</td><td>1</td><td>3</td><td>2</td><td>3</td><td>1</td></tr>\n",
       "\t<tr><th scope=row>6</th><td>5</td><td>1e+05</td><td>1e+05</td><td>NA</td><td> NA</td><td>1e+05</td><td>0.201</td><td>1e+05</td><td>0</td><td>2</td><td>2</td><td>1</td><td>2</td></tr>\n",
       "</tbody>\n",
       "</table>\n"
      ],
      "text/latex": [
       "A data.frame: 6 × 13\n",
       "\\begin{tabular}{r|lllllllllllll}\n",
       "  & pregnant & glucose & pressure & triceps & insulin & mass & pedigree & age & diabetes & glucose\\_encoded & age\\_encoded & mass\\_encoded & pressure\\_encoded\\\\\n",
       "  & <dbl> & <dbl> & <dbl> & <dbl> & <dbl> & <dbl> & <dbl> & <dbl> & <dbl> & <int> & <int> & <int> & <int>\\\\\n",
       "\\hline\n",
       "\t1 & 6 & 1e+05 & 1e+05 & 35 &  NA & 1e+05 & 0.627 & 1e+05 & 1 & 3 & 3 & 2 & 2\\\\\n",
       "\t2 & 1 & 1e+05 & 1e+05 & 29 &  NA & 1e+05 & 0.351 & 1e+05 & 0 & 1 & 2 & 1 & 1\\\\\n",
       "\t3 & 8 & 1e+05 & 1e+05 & NA &  NA & 1e+05 & 0.672 & 1e+05 & 1 & 3 & 2 & 1 & 1\\\\\n",
       "\t4 & 1 & 1e+05 & 1e+05 & 23 &  94 & 1e+05 & 0.167 & 1e+05 & 0 & 1 & 1 & 1 & 1\\\\\n",
       "\t5 & 0 & 1e+05 & 1e+05 & 35 & 168 & 1e+05 & 2.288 & 1e+05 & 1 & 3 & 2 & 3 & 1\\\\\n",
       "\t6 & 5 & 1e+05 & 1e+05 & NA &  NA & 1e+05 & 0.201 & 1e+05 & 0 & 2 & 2 & 1 & 2\\\\\n",
       "\\end{tabular}\n"
      ],
      "text/markdown": [
       "\n",
       "A data.frame: 6 × 13\n",
       "\n",
       "| <!--/--> | pregnant &lt;dbl&gt; | glucose &lt;dbl&gt; | pressure &lt;dbl&gt; | triceps &lt;dbl&gt; | insulin &lt;dbl&gt; | mass &lt;dbl&gt; | pedigree &lt;dbl&gt; | age &lt;dbl&gt; | diabetes &lt;dbl&gt; | glucose_encoded &lt;int&gt; | age_encoded &lt;int&gt; | mass_encoded &lt;int&gt; | pressure_encoded &lt;int&gt; |\n",
       "|---|---|---|---|---|---|---|---|---|---|---|---|---|---|\n",
       "| 1 | 6 | 1e+05 | 1e+05 | 35 |  NA | 1e+05 | 0.627 | 1e+05 | 1 | 3 | 3 | 2 | 2 |\n",
       "| 2 | 1 | 1e+05 | 1e+05 | 29 |  NA | 1e+05 | 0.351 | 1e+05 | 0 | 1 | 2 | 1 | 1 |\n",
       "| 3 | 8 | 1e+05 | 1e+05 | NA |  NA | 1e+05 | 0.672 | 1e+05 | 1 | 3 | 2 | 1 | 1 |\n",
       "| 4 | 1 | 1e+05 | 1e+05 | 23 |  94 | 1e+05 | 0.167 | 1e+05 | 0 | 1 | 1 | 1 | 1 |\n",
       "| 5 | 0 | 1e+05 | 1e+05 | 35 | 168 | 1e+05 | 2.288 | 1e+05 | 1 | 3 | 2 | 3 | 1 |\n",
       "| 6 | 5 | 1e+05 | 1e+05 | NA |  NA | 1e+05 | 0.201 | 1e+05 | 0 | 2 | 2 | 1 | 2 |\n",
       "\n"
      ],
      "text/plain": [
       "  pregnant glucose pressure triceps insulin mass  pedigree age   diabetes\n",
       "1 6        1e+05   1e+05    35       NA     1e+05 0.627    1e+05 1       \n",
       "2 1        1e+05   1e+05    29       NA     1e+05 0.351    1e+05 0       \n",
       "3 8        1e+05   1e+05    NA       NA     1e+05 0.672    1e+05 1       \n",
       "4 1        1e+05   1e+05    23       94     1e+05 0.167    1e+05 0       \n",
       "5 0        1e+05   1e+05    35      168     1e+05 2.288    1e+05 1       \n",
       "6 5        1e+05   1e+05    NA       NA     1e+05 0.201    1e+05 0       \n",
       "  glucose_encoded age_encoded mass_encoded pressure_encoded\n",
       "1 3               3           2            2               \n",
       "2 1               2           1            1               \n",
       "3 3               2           1            1               \n",
       "4 1               1           1            1               \n",
       "5 3               2           3            1               \n",
       "6 2               2           1            2               "
      ]
     },
     "metadata": {},
     "output_type": "display_data"
    }
   ],
   "source": [
    "x_encoded = x\n",
    "head(x_encoded)"
   ]
  },
  {
   "attachments": {},
   "cell_type": "markdown",
   "metadata": {},
   "source": [
    "#### Логистическая регрессия по всем переменным"
   ]
  },
  {
   "cell_type": "code",
   "execution_count": 43,
   "metadata": {
    "vscode": {
     "languageId": "r"
    }
   },
   "outputs": [
    {
     "data": {
      "text/html": [
       "<table class=\"dataframe\">\n",
       "<caption>A data.frame: 6 × 9</caption>\n",
       "<thead>\n",
       "\t<tr><th></th><th scope=col>pregnant</th><th scope=col>glucose</th><th scope=col>pressure</th><th scope=col>triceps</th><th scope=col>insulin</th><th scope=col>mass</th><th scope=col>pedigree</th><th scope=col>age</th><th scope=col>diabetes</th></tr>\n",
       "\t<tr><th></th><th scope=col>&lt;dbl&gt;</th><th scope=col>&lt;dbl&gt;</th><th scope=col>&lt;dbl&gt;</th><th scope=col>&lt;dbl&gt;</th><th scope=col>&lt;dbl&gt;</th><th scope=col>&lt;dbl&gt;</th><th scope=col>&lt;dbl&gt;</th><th scope=col>&lt;dbl&gt;</th><th scope=col>&lt;dbl&gt;</th></tr>\n",
       "</thead>\n",
       "<tbody>\n",
       "\t<tr><th scope=row>1</th><td>6</td><td>148</td><td>72</td><td>35</td><td>125</td><td>33.6</td><td>0.627</td><td>50</td><td>1</td></tr>\n",
       "\t<tr><th scope=row>2</th><td>1</td><td> 85</td><td>66</td><td>29</td><td>125</td><td>26.6</td><td>0.351</td><td>31</td><td>0</td></tr>\n",
       "\t<tr><th scope=row>3</th><td>8</td><td>183</td><td>64</td><td>29</td><td>125</td><td>23.3</td><td>0.672</td><td>32</td><td>1</td></tr>\n",
       "\t<tr><th scope=row>4</th><td>1</td><td> 89</td><td>66</td><td>23</td><td> 94</td><td>28.1</td><td>0.167</td><td>21</td><td>0</td></tr>\n",
       "\t<tr><th scope=row>5</th><td>0</td><td>137</td><td>40</td><td>35</td><td>168</td><td>43.1</td><td>2.288</td><td>33</td><td>1</td></tr>\n",
       "\t<tr><th scope=row>6</th><td>5</td><td>116</td><td>74</td><td>29</td><td>125</td><td>25.6</td><td>0.201</td><td>30</td><td>0</td></tr>\n",
       "</tbody>\n",
       "</table>\n"
      ],
      "text/latex": [
       "A data.frame: 6 × 9\n",
       "\\begin{tabular}{r|lllllllll}\n",
       "  & pregnant & glucose & pressure & triceps & insulin & mass & pedigree & age & diabetes\\\\\n",
       "  & <dbl> & <dbl> & <dbl> & <dbl> & <dbl> & <dbl> & <dbl> & <dbl> & <dbl>\\\\\n",
       "\\hline\n",
       "\t1 & 6 & 148 & 72 & 35 & 125 & 33.6 & 0.627 & 50 & 1\\\\\n",
       "\t2 & 1 &  85 & 66 & 29 & 125 & 26.6 & 0.351 & 31 & 0\\\\\n",
       "\t3 & 8 & 183 & 64 & 29 & 125 & 23.3 & 0.672 & 32 & 1\\\\\n",
       "\t4 & 1 &  89 & 66 & 23 &  94 & 28.1 & 0.167 & 21 & 0\\\\\n",
       "\t5 & 0 & 137 & 40 & 35 & 168 & 43.1 & 2.288 & 33 & 1\\\\\n",
       "\t6 & 5 & 116 & 74 & 29 & 125 & 25.6 & 0.201 & 30 & 0\\\\\n",
       "\\end{tabular}\n"
      ],
      "text/markdown": [
       "\n",
       "A data.frame: 6 × 9\n",
       "\n",
       "| <!--/--> | pregnant &lt;dbl&gt; | glucose &lt;dbl&gt; | pressure &lt;dbl&gt; | triceps &lt;dbl&gt; | insulin &lt;dbl&gt; | mass &lt;dbl&gt; | pedigree &lt;dbl&gt; | age &lt;dbl&gt; | diabetes &lt;dbl&gt; |\n",
       "|---|---|---|---|---|---|---|---|---|---|\n",
       "| 1 | 6 | 148 | 72 | 35 | 125 | 33.6 | 0.627 | 50 | 1 |\n",
       "| 2 | 1 |  85 | 66 | 29 | 125 | 26.6 | 0.351 | 31 | 0 |\n",
       "| 3 | 8 | 183 | 64 | 29 | 125 | 23.3 | 0.672 | 32 | 1 |\n",
       "| 4 | 1 |  89 | 66 | 23 |  94 | 28.1 | 0.167 | 21 | 0 |\n",
       "| 5 | 0 | 137 | 40 | 35 | 168 | 43.1 | 2.288 | 33 | 1 |\n",
       "| 6 | 5 | 116 | 74 | 29 | 125 | 25.6 | 0.201 | 30 | 0 |\n",
       "\n"
      ],
      "text/plain": [
       "  pregnant glucose pressure triceps insulin mass pedigree age diabetes\n",
       "1 6        148     72       35      125     33.6 0.627    50  1       \n",
       "2 1         85     66       29      125     26.6 0.351    31  0       \n",
       "3 8        183     64       29      125     23.3 0.672    32  1       \n",
       "4 1         89     66       23       94     28.1 0.167    21  0       \n",
       "5 0        137     40       35      168     43.1 2.288    33  1       \n",
       "6 5        116     74       29      125     25.6 0.201    30  0       "
      ]
     },
     "metadata": {},
     "output_type": "display_data"
    }
   ],
   "source": [
    "x = PimaIndiansDiabetes2\n",
    "x$diabetes = as.integer(x$diabetes)\n",
    "# for each columns of x fill NA values with median\n",
    "for (i in 1:ncol(x)) {\n",
    "    x[, i][is.na(x[, i])] <- median(x[, i], na.rm = TRUE)\n",
    "}\n",
    "head(x)"
   ]
  },
  {
   "cell_type": "code",
   "execution_count": 44,
   "metadata": {
    "vscode": {
     "languageId": "r"
    }
   },
   "outputs": [
    {
     "data": {
      "image/png": "[encoded data removed]",
      "text/plain": [
       "Plot with title “ROC curve\n",
       "AUC = 0.8447015”"
      ]
     },
     "metadata": {
      "image/png": {
       "height": 420,
       "width": 420
      }
     },
     "output_type": "display_data"
    }
   ],
   "source": [
    "logist=glm(diabetes~., data=x, family=\"binomial\")\n",
    "ans=predict(logist, type=\"response\")\n",
    "plot(roc.curve(scores.class0=ans, weights.class0=x$diabetes, curve=TRUE))"
   ]
  },
  {
   "attachments": {},
   "cell_type": "markdown",
   "metadata": {},
   "source": [
    "Хороший результат"
   ]
  },
  {
   "attachments": {},
   "cell_type": "markdown",
   "metadata": {},
   "source": [
    "#### Логистическая регрессия по лучшим переменным"
   ]
  },
  {
   "cell_type": "code",
   "execution_count": 48,
   "metadata": {
    "vscode": {
     "languageId": "r"
    }
   },
   "outputs": [
    {
     "data": {
      "text/html": [
       "<table class=\"dataframe\">\n",
       "<caption>A data.frame: 6 × 4</caption>\n",
       "<thead>\n",
       "\t<tr><th></th><th scope=col>glucose</th><th scope=col>mass</th><th scope=col>age</th><th scope=col>diabetes</th></tr>\n",
       "\t<tr><th></th><th scope=col>&lt;dbl&gt;</th><th scope=col>&lt;dbl&gt;</th><th scope=col>&lt;dbl&gt;</th><th scope=col>&lt;dbl&gt;</th></tr>\n",
       "</thead>\n",
       "<tbody>\n",
       "\t<tr><th scope=row>1</th><td>148</td><td>33.6</td><td>50</td><td>1</td></tr>\n",
       "\t<tr><th scope=row>2</th><td> 85</td><td>26.6</td><td>31</td><td>0</td></tr>\n",
       "\t<tr><th scope=row>3</th><td>183</td><td>23.3</td><td>32</td><td>1</td></tr>\n",
       "\t<tr><th scope=row>4</th><td> 89</td><td>28.1</td><td>21</td><td>0</td></tr>\n",
       "\t<tr><th scope=row>5</th><td>137</td><td>43.1</td><td>33</td><td>1</td></tr>\n",
       "\t<tr><th scope=row>6</th><td>116</td><td>25.6</td><td>30</td><td>0</td></tr>\n",
       "</tbody>\n",
       "</table>\n"
      ],
      "text/latex": [
       "A data.frame: 6 × 4\n",
       "\\begin{tabular}{r|llll}\n",
       "  & glucose & mass & age & diabetes\\\\\n",
       "  & <dbl> & <dbl> & <dbl> & <dbl>\\\\\n",
       "\\hline\n",
       "\t1 & 148 & 33.6 & 50 & 1\\\\\n",
       "\t2 &  85 & 26.6 & 31 & 0\\\\\n",
       "\t3 & 183 & 23.3 & 32 & 1\\\\\n",
       "\t4 &  89 & 28.1 & 21 & 0\\\\\n",
       "\t5 & 137 & 43.1 & 33 & 1\\\\\n",
       "\t6 & 116 & 25.6 & 30 & 0\\\\\n",
       "\\end{tabular}\n"
      ],
      "text/markdown": [
       "\n",
       "A data.frame: 6 × 4\n",
       "\n",
       "| <!--/--> | glucose &lt;dbl&gt; | mass &lt;dbl&gt; | age &lt;dbl&gt; | diabetes &lt;dbl&gt; |\n",
       "|---|---|---|---|---|\n",
       "| 1 | 148 | 33.6 | 50 | 1 |\n",
       "| 2 |  85 | 26.6 | 31 | 0 |\n",
       "| 3 | 183 | 23.3 | 32 | 1 |\n",
       "| 4 |  89 | 28.1 | 21 | 0 |\n",
       "| 5 | 137 | 43.1 | 33 | 1 |\n",
       "| 6 | 116 | 25.6 | 30 | 0 |\n",
       "\n"
      ],
      "text/plain": [
       "  glucose mass age diabetes\n",
       "1 148     33.6 50  1       \n",
       "2  85     26.6 31  0       \n",
       "3 183     23.3 32  1       \n",
       "4  89     28.1 21  0       \n",
       "5 137     43.1 33  1       \n",
       "6 116     25.6 30  0       "
      ]
     },
     "metadata": {},
     "output_type": "display_data"
    }
   ],
   "source": [
    "x = x[, c(2,6, 8, 9)]\n",
    "head(x)"
   ]
  },
  {
   "cell_type": "code",
   "execution_count": 49,
   "metadata": {
    "vscode": {
     "languageId": "r"
    }
   },
   "outputs": [
    {
     "data": {
      "image/png": "[encoded data removed]",
      "text/plain": [
       "Plot with title “ROC curve\n",
       "AUC = 0.8292015”"
      ]
     },
     "metadata": {
      "image/png": {
       "height": 420,
       "width": 420
      }
     },
     "output_type": "display_data"
    }
   ],
   "source": [
    "logist=glm(diabetes~., data=x, family=\"binomial\")\n",
    "ans=predict(logist, type=\"response\")\n",
    "plot(roc.curve(scores.class0=ans, weights.class0=x$diabetes, curve=TRUE))"
   ]
  },
  {
   "attachments": {},
   "cell_type": "markdown",
   "metadata": {},
   "source": [
    "Стало немного хуже, но в целом качество сохранилось. Тем более если учесть, что мы уменьшили количество переменных в 3 раза + у нас нет тестовой выборки"
   ]
  },
  {
   "attachments": {},
   "cell_type": "markdown",
   "metadata": {},
   "source": [
    "#### Логистическая регрессия по закодированным значениям лучших переменных"
   ]
  },
  {
   "cell_type": "code",
   "execution_count": 60,
   "metadata": {
    "vscode": {
     "languageId": "r"
    }
   },
   "outputs": [
    {
     "data": {
      "text/html": [
       "<table class=\"dataframe\">\n",
       "<caption>A data.frame: 6 × 4</caption>\n",
       "<thead>\n",
       "\t<tr><th></th><th scope=col>diabetes</th><th scope=col>glucose_encoded</th><th scope=col>age_encoded</th><th scope=col>mass_encoded</th></tr>\n",
       "\t<tr><th></th><th scope=col>&lt;dbl&gt;</th><th scope=col>&lt;int&gt;</th><th scope=col>&lt;dbl&gt;</th><th scope=col>&lt;int&gt;</th></tr>\n",
       "</thead>\n",
       "<tbody>\n",
       "\t<tr><th scope=row>1</th><td>1</td><td>3</td><td>3</td><td>2</td></tr>\n",
       "\t<tr><th scope=row>2</th><td>0</td><td>1</td><td>2</td><td>1</td></tr>\n",
       "\t<tr><th scope=row>3</th><td>1</td><td>3</td><td>2</td><td>1</td></tr>\n",
       "\t<tr><th scope=row>4</th><td>0</td><td>1</td><td>1</td><td>1</td></tr>\n",
       "\t<tr><th scope=row>5</th><td>1</td><td>3</td><td>2</td><td>3</td></tr>\n",
       "\t<tr><th scope=row>6</th><td>0</td><td>2</td><td>2</td><td>1</td></tr>\n",
       "</tbody>\n",
       "</table>\n"
      ],
      "text/latex": [
       "A data.frame: 6 × 4\n",
       "\\begin{tabular}{r|llll}\n",
       "  & diabetes & glucose\\_encoded & age\\_encoded & mass\\_encoded\\\\\n",
       "  & <dbl> & <int> & <dbl> & <int>\\\\\n",
       "\\hline\n",
       "\t1 & 1 & 3 & 3 & 2\\\\\n",
       "\t2 & 0 & 1 & 2 & 1\\\\\n",
       "\t3 & 1 & 3 & 2 & 1\\\\\n",
       "\t4 & 0 & 1 & 1 & 1\\\\\n",
       "\t5 & 1 & 3 & 2 & 3\\\\\n",
       "\t6 & 0 & 2 & 2 & 1\\\\\n",
       "\\end{tabular}\n"
      ],
      "text/markdown": [
       "\n",
       "A data.frame: 6 × 4\n",
       "\n",
       "| <!--/--> | diabetes &lt;dbl&gt; | glucose_encoded &lt;int&gt; | age_encoded &lt;dbl&gt; | mass_encoded &lt;int&gt; |\n",
       "|---|---|---|---|---|\n",
       "| 1 | 1 | 3 | 3 | 2 |\n",
       "| 2 | 0 | 1 | 2 | 1 |\n",
       "| 3 | 1 | 3 | 2 | 1 |\n",
       "| 4 | 0 | 1 | 1 | 1 |\n",
       "| 5 | 1 | 3 | 2 | 3 |\n",
       "| 6 | 0 | 2 | 2 | 1 |\n",
       "\n"
      ],
      "text/plain": [
       "  diabetes glucose_encoded age_encoded mass_encoded\n",
       "1 1        3               3           2           \n",
       "2 0        1               2           1           \n",
       "3 1        3               2           1           \n",
       "4 0        1               1           1           \n",
       "5 1        3               2           3           \n",
       "6 0        2               2           1           "
      ]
     },
     "metadata": {},
     "output_type": "display_data"
    }
   ],
   "source": [
    "x = x_encoded[, c(9, 10, 11, 12)]\n",
    "# for each columns of x fill NA values with median\n",
    "for (i in 1:ncol(x)) {\n",
    "    x[, i][is.na(x[, i])] <- median(x[, i], na.rm = TRUE)\n",
    "}\n",
    "head(x)"
   ]
  },
  {
   "cell_type": "code",
   "execution_count": 61,
   "metadata": {
    "vscode": {
     "languageId": "r"
    }
   },
   "outputs": [
    {
     "data": {
      "image/png": "[encoded data removed]",
      "text/plain": [
       "Plot with title “ROC curve\n",
       "AUC = 0.8163806”"
      ]
     },
     "metadata": {
      "image/png": {
       "height": 420,
       "width": 420
      }
     },
     "output_type": "display_data"
    }
   ],
   "source": [
    "logist=glm(diabetes~., data=x, family=\"binomial\")\n",
    "ans=predict(logist, type=\"response\")\n",
    "plot(roc.curve(scores.class0=ans, weights.class0=x$diabetes, curve=TRUE))"
   ]
  },
  {
   "attachments": {},
   "cell_type": "markdown",
   "metadata": {},
   "source": [
    "Качество еще немного упало, но не сильно"
   ]
  },
  {
   "attachments": {},
   "cell_type": "markdown",
   "metadata": {},
   "source": [
    "# Задание 3"
   ]
  },
  {
   "attachments": {},
   "cell_type": "markdown",
   "metadata": {},
   "source": [
    "# Задание 4\n",
    "\n",
    "Рассмотрим базу данных [LifeCycleSavings](https://stat.ethz.ch/R-manual/R-patched/library/datasets/html/LifeCycleSavings.html), содержащую информацию о среднем коэффициенте персональных сбережениях жителей 50 стран. Этот коэффициент для конкретного жителя вычисляется как отношение его совокупных личных сбережений к располагаемому доходу. Согласно гипотезе Модильяни, среднее по стране значение этого коэффициента зависит от\n",
    "* процента населения моложе 15 лет -- `LifeCycleSavings$pop15`\n",
    "* процента населения старше 75 лет -- `LifeCycleSavings$pop75`\n",
    "* располагаемого дохода на душу населения -- `LifeCycleSavings$dpi`\n",
    "* процентной скорости изменения располагаемого дохода на душу населения -- `LifeCycleSavings$ddpi`\n",
    "\n",
    "Представленные данные являются усреднёнными показателями за\n",
    "1960–1970 гг."
   ]
  },
  {
   "cell_type": "code",
   "execution_count": 72,
   "metadata": {
    "vscode": {
     "languageId": "r"
    }
   },
   "outputs": [
    {
     "data": {
      "text/html": [
       "<table class=\"dataframe\">\n",
       "<caption>A data.frame: 6 × 5</caption>\n",
       "<thead>\n",
       "\t<tr><th></th><th scope=col>sr</th><th scope=col>pop15</th><th scope=col>pop75</th><th scope=col>dpi</th><th scope=col>ddpi</th></tr>\n",
       "\t<tr><th></th><th scope=col>&lt;dbl&gt;</th><th scope=col>&lt;dbl&gt;</th><th scope=col>&lt;dbl&gt;</th><th scope=col>&lt;dbl&gt;</th><th scope=col>&lt;dbl&gt;</th></tr>\n",
       "</thead>\n",
       "<tbody>\n",
       "\t<tr><th scope=row>Australia</th><td>11.43</td><td>29.35</td><td>2.87</td><td>2329.68</td><td>2.87</td></tr>\n",
       "\t<tr><th scope=row>Austria</th><td>12.07</td><td>23.32</td><td>4.41</td><td>1507.99</td><td>3.93</td></tr>\n",
       "\t<tr><th scope=row>Belgium</th><td>13.17</td><td>23.80</td><td>4.43</td><td>2108.47</td><td>3.82</td></tr>\n",
       "\t<tr><th scope=row>Bolivia</th><td> 5.75</td><td>41.89</td><td>1.67</td><td> 189.13</td><td>0.22</td></tr>\n",
       "\t<tr><th scope=row>Brazil</th><td>12.88</td><td>42.19</td><td>0.83</td><td> 728.47</td><td>4.56</td></tr>\n",
       "\t<tr><th scope=row>Canada</th><td> 8.79</td><td>31.72</td><td>2.85</td><td>2982.88</td><td>2.43</td></tr>\n",
       "</tbody>\n",
       "</table>\n"
      ],
      "text/latex": [
       "A data.frame: 6 × 5\n",
       "\\begin{tabular}{r|lllll}\n",
       "  & sr & pop15 & pop75 & dpi & ddpi\\\\\n",
       "  & <dbl> & <dbl> & <dbl> & <dbl> & <dbl>\\\\\n",
       "\\hline\n",
       "\tAustralia & 11.43 & 29.35 & 2.87 & 2329.68 & 2.87\\\\\n",
       "\tAustria & 12.07 & 23.32 & 4.41 & 1507.99 & 3.93\\\\\n",
       "\tBelgium & 13.17 & 23.80 & 4.43 & 2108.47 & 3.82\\\\\n",
       "\tBolivia &  5.75 & 41.89 & 1.67 &  189.13 & 0.22\\\\\n",
       "\tBrazil & 12.88 & 42.19 & 0.83 &  728.47 & 4.56\\\\\n",
       "\tCanada &  8.79 & 31.72 & 2.85 & 2982.88 & 2.43\\\\\n",
       "\\end{tabular}\n"
      ],
      "text/markdown": [
       "\n",
       "A data.frame: 6 × 5\n",
       "\n",
       "| <!--/--> | sr &lt;dbl&gt; | pop15 &lt;dbl&gt; | pop75 &lt;dbl&gt; | dpi &lt;dbl&gt; | ddpi &lt;dbl&gt; |\n",
       "|---|---|---|---|---|---|\n",
       "| Australia | 11.43 | 29.35 | 2.87 | 2329.68 | 2.87 |\n",
       "| Austria | 12.07 | 23.32 | 4.41 | 1507.99 | 3.93 |\n",
       "| Belgium | 13.17 | 23.80 | 4.43 | 2108.47 | 3.82 |\n",
       "| Bolivia |  5.75 | 41.89 | 1.67 |  189.13 | 0.22 |\n",
       "| Brazil | 12.88 | 42.19 | 0.83 |  728.47 | 4.56 |\n",
       "| Canada |  8.79 | 31.72 | 2.85 | 2982.88 | 2.43 |\n",
       "\n"
      ],
      "text/plain": [
       "          sr    pop15 pop75 dpi     ddpi\n",
       "Australia 11.43 29.35 2.87  2329.68 2.87\n",
       "Austria   12.07 23.32 4.41  1507.99 3.93\n",
       "Belgium   13.17 23.80 4.43  2108.47 3.82\n",
       "Bolivia    5.75 41.89 1.67   189.13 0.22\n",
       "Brazil    12.88 42.19 0.83   728.47 4.56\n",
       "Canada     8.79 31.72 2.85  2982.88 2.43"
      ]
     },
     "metadata": {},
     "output_type": "display_data"
    },
    {
     "data": {
      "text/html": [
       "<style>\n",
       ".list-inline {list-style: none; margin:0; padding: 0}\n",
       ".list-inline>li {display: inline-block}\n",
       ".list-inline>li:not(:last-child)::after {content: \"\\00b7\"; padding: 0 .5ex}\n",
       "</style>\n",
       "<ol class=list-inline><li>50</li><li>5</li></ol>\n"
      ],
      "text/latex": [
       "\\begin{enumerate*}\n",
       "\\item 50\n",
       "\\item 5\n",
       "\\end{enumerate*}\n"
      ],
      "text/markdown": [
       "1. 50\n",
       "2. 5\n",
       "\n",
       "\n"
      ],
      "text/plain": [
       "[1] 50  5"
      ]
     },
     "metadata": {},
     "output_type": "display_data"
    }
   ],
   "source": [
    "data(LifeCycleSavings)\n",
    "head(LifeCycleSavings)\n",
    "dim(LifeCycleSavings)"
   ]
  },
  {
   "attachments": {},
   "cell_type": "markdown",
   "metadata": {},
   "source": [
    "### Пункт 1\n",
    "Для переменных `sr`(как $y$-переменной) и `pop15` (как $x$-переменной) постройте ядерную оценку регрессии при различных вариантах выбора ядра (гауссовское ядро и ядро Епанечникова) и различных методах выбора параметра bandwidth (критерий Акаике, обобщённый метод кросс-проверки). Найдите наилучший метод в смысле наименьшей среднеквадратичной ошибки."
   ]
  },
  {
   "cell_type": "code",
   "execution_count": 3,
   "metadata": {
    "vscode": {
     "languageId": "r"
    }
   },
   "outputs": [
    {
     "name": "stderr",
     "output_type": "stream",
     "text": [
      "Nonparametric Kernel Methods for Mixed Datatypes (version 0.60-17)\n",
      "[vignette(\"np_faq\",package=\"np\") provides answers to frequently asked questions]\n",
      "[vignette(\"np\",package=\"np\") an overview]\n",
      "[vignette(\"entropy_np\",package=\"np\") an overview of entropy-based methods]\n",
      "\n"
     ]
    }
   ],
   "source": [
    "# install.packages(\"np\")\n",
    "library(np)"
   ]
  },
  {
   "cell_type": "code",
   "execution_count": 35,
   "metadata": {
    "vscode": {
     "languageId": "r"
    }
   },
   "outputs": [
    {
     "name": "stdout",
     "output_type": "stream",
     "text": [
      "                   \r"
     ]
    },
    {
     "name": "stderr",
     "output_type": "stream",
     "text": [
      "Warning message in plot.xy(xy.coords(x, y), type = type, ...):\n",
      "“\"labels\" is not a graphical parameter”\n"
     ]
    },
    {
     "name": "stdout",
     "output_type": "stream",
     "text": [
      "                   \r"
     ]
    },
    {
     "data": {
      "text/html": [
       "<table class=\"dataframe\">\n",
       "<caption>A matrix: 2 × 2 of type dbl</caption>\n",
       "<tbody>\n",
       "\t<tr><td>14.60803</td><td>14.60803</td></tr>\n",
       "\t<tr><td>14.57089</td><td>14.57089</td></tr>\n",
       "</tbody>\n",
       "</table>\n"
      ],
      "text/latex": [
       "A matrix: 2 × 2 of type dbl\n",
       "\\begin{tabular}{ll}\n",
       "\t 14.60803 & 14.60803\\\\\n",
       "\t 14.57089 & 14.57089\\\\\n",
       "\\end{tabular}\n"
      ],
      "text/markdown": [
       "\n",
       "A matrix: 2 × 2 of type dbl\n",
       "\n",
       "| 14.60803 | 14.60803 |\n",
       "| 14.57089 | 14.57089 |\n",
       "\n"
      ],
      "text/plain": [
       "     [,1]     [,2]    \n",
       "[1,] 14.60803 14.60803\n",
       "[2,] 14.57089 14.57089"
      ]
     },
     "metadata": {},
     "output_type": "display_data"
    },
    {
     "data": {
      "image/png": "[encoded data removed]",
      "text/plain": [
       "plot without title"
      ]
     },
     "metadata": {
      "image/png": {
       "height": 420,
       "width": 420
      }
     },
     "output_type": "display_data"
    }
   ],
   "source": [
    "x = LifeCycleSavings$pop15\n",
    "y = LifeCycleSavings$sr\n",
    "\n",
    "ker <- c(\"gaussian\", \"epanechnikov\")\n",
    "band <- c(\"cv.ls\", \"cv.aic\")\n",
    "mse <- array(data = NA, c(length(ker), length(band)))\n",
    "n <- 1\n",
    "y <- y[order(x)]\n",
    "x <- sort(x)\n",
    "for (i in 1:length(ker)) {\n",
    "  for (j in 1:length(band)) {\n",
    "      NW <- npreg(txdat = x, tydat = y, ckertype = ker[i], bw = band[j])\n",
    "      mse[i, j] <- mean((y - fitted(NW))^2)\n",
    "      if (i * j == 1) {\n",
    "        plot(x, y)\n",
    "        points(x, fitted(NW), col = n, type = \"l\", labels = paste(ker[i], band[j]))\n",
    "      } else {\n",
    "        n <- n + 1\n",
    "        points(x, fitted(NW), col = n, type = \"l\")\n",
    "      }\n",
    "    }\n",
    "}\n",
    "mse\n"
   ]
  },
  {
   "attachments": {},
   "cell_type": "markdown",
   "metadata": {},
   "source": [
    "Наименьшая ошибка = 14.57"
   ]
  },
  {
   "attachments": {},
   "cell_type": "markdown",
   "metadata": {},
   "source": [
    "### Пункт 2\n",
    "Повторите вычисления для остальных трёх объясняющих переменных вместо \"pop15\". Выберите 2 переменные, которые по Вашему мнению наилучшим образом объясняют коэффициент персональных сбережений (в дальнейшем эти перемен- ные будем называть V1 и V2). Объясните свой выбор."
   ]
  },
  {
   "attachments": {},
   "cell_type": "markdown",
   "metadata": {},
   "source": [
    "`pop75`"
   ]
  },
  {
   "cell_type": "code",
   "execution_count": 51,
   "metadata": {
    "vscode": {
     "languageId": "r"
    }
   },
   "outputs": [
    {
     "name": "stdout",
     "output_type": "stream",
     "text": [
      "                   \r"
     ]
    },
    {
     "name": "stderr",
     "output_type": "stream",
     "text": [
      "Warning message in plot.xy(xy.coords(x, y), type = type, ...):\n",
      "“\"labels\" is not a graphical parameter”\n"
     ]
    },
    {
     "name": "stdout",
     "output_type": "stream",
     "text": [
      "                   \r"
     ]
    },
    {
     "data": {
      "text/html": [
       "<table class=\"dataframe\">\n",
       "<caption>A matrix: 2 × 2 of type dbl</caption>\n",
       "<tbody>\n",
       "\t<tr><td>17.38385</td><td>17.38385</td></tr>\n",
       "\t<tr><td>15.25950</td><td>15.25950</td></tr>\n",
       "</tbody>\n",
       "</table>\n"
      ],
      "text/latex": [
       "A matrix: 2 × 2 of type dbl\n",
       "\\begin{tabular}{ll}\n",
       "\t 17.38385 & 17.38385\\\\\n",
       "\t 15.25950 & 15.25950\\\\\n",
       "\\end{tabular}\n"
      ],
      "text/markdown": [
       "\n",
       "A matrix: 2 × 2 of type dbl\n",
       "\n",
       "| 17.38385 | 17.38385 |\n",
       "| 15.25950 | 15.25950 |\n",
       "\n"
      ],
      "text/plain": [
       "     [,1]     [,2]    \n",
       "[1,] 17.38385 17.38385\n",
       "[2,] 15.25950 15.25950"
      ]
     },
     "metadata": {},
     "output_type": "display_data"
    },
    {
     "data": {
      "image/png": "[encoded data removed]",
      "text/plain": [
       "plot without title"
      ]
     },
     "metadata": {
      "image/png": {
       "height": 420,
       "width": 420
      }
     },
     "output_type": "display_data"
    }
   ],
   "source": [
    "x = LifeCycleSavings$pop75\n",
    "y = LifeCycleSavings$sr\n",
    "\n",
    "ker <- c(\"gaussian\", \"epanechnikov\")\n",
    "band <- c(\"cv.ls\", \"cv.aic\")\n",
    "mse <- array(data = NA, c(length(ker), length(band)))\n",
    "n <- 1\n",
    "y <- y[order(x)]\n",
    "x <- sort(x)\n",
    "for (i in 1:length(ker)) {\n",
    "  for (j in 1:length(band)) {\n",
    "      NW <- npreg(txdat = x, tydat = y, ckertype = ker[i], bw = band[j])\n",
    "      mse[i, j] <- mean((y - fitted(NW))^2)\n",
    "      if (i * j == 1) {\n",
    "        plot(x, y)\n",
    "        points(x, fitted(NW), col = n, type = \"l\", labels = paste(ker[i], band[j]))\n",
    "      } else {\n",
    "        n <- n + 1\n",
    "        points(x, fitted(NW), col = n, type = \"l\")\n",
    "      }\n",
    "    }\n",
    "}\n",
    "mse\n"
   ]
  },
  {
   "attachments": {},
   "cell_type": "markdown",
   "metadata": {},
   "source": [
    "Наименьшая ошибка = 15.25"
   ]
  },
  {
   "attachments": {},
   "cell_type": "markdown",
   "metadata": {},
   "source": [
    "`dpi`"
   ]
  },
  {
   "cell_type": "code",
   "execution_count": 52,
   "metadata": {
    "vscode": {
     "languageId": "r"
    }
   },
   "outputs": [
    {
     "name": "stdout",
     "output_type": "stream",
     "text": [
      "                   \r"
     ]
    },
    {
     "name": "stderr",
     "output_type": "stream",
     "text": [
      "Warning message in plot.xy(xy.coords(x, y), type = type, ...):\n",
      "“\"labels\" is not a graphical parameter”\n"
     ]
    },
    {
     "name": "stdout",
     "output_type": "stream",
     "text": [
      "                   \r"
     ]
    },
    {
     "data": {
      "text/html": [
       "<table class=\"dataframe\">\n",
       "<caption>A matrix: 2 × 2 of type dbl</caption>\n",
       "<tbody>\n",
       "\t<tr><td>14.45897</td><td>14.45897</td></tr>\n",
       "\t<tr><td>15.87978</td><td>15.87978</td></tr>\n",
       "</tbody>\n",
       "</table>\n"
      ],
      "text/latex": [
       "A matrix: 2 × 2 of type dbl\n",
       "\\begin{tabular}{ll}\n",
       "\t 14.45897 & 14.45897\\\\\n",
       "\t 15.87978 & 15.87978\\\\\n",
       "\\end{tabular}\n"
      ],
      "text/markdown": [
       "\n",
       "A matrix: 2 × 2 of type dbl\n",
       "\n",
       "| 14.45897 | 14.45897 |\n",
       "| 15.87978 | 15.87978 |\n",
       "\n"
      ],
      "text/plain": [
       "     [,1]     [,2]    \n",
       "[1,] 14.45897 14.45897\n",
       "[2,] 15.87978 15.87978"
      ]
     },
     "metadata": {},
     "output_type": "display_data"
    },
    {
     "data": {
      "image/png": "[encoded data removed]",
      "text/plain": [
       "plot without title"
      ]
     },
     "metadata": {
      "image/png": {
       "height": 420,
       "width": 420
      }
     },
     "output_type": "display_data"
    }
   ],
   "source": [
    "x = LifeCycleSavings$dpi\n",
    "y = LifeCycleSavings$sr\n",
    "\n",
    "ker <- c(\"gaussian\", \"epanechnikov\")\n",
    "band <- c(\"cv.ls\", \"cv.aic\")\n",
    "mse <- array(data = NA, c(length(ker), length(band)))\n",
    "n <- 1\n",
    "y <- y[order(x)]\n",
    "x <- sort(x)\n",
    "for (i in 1:length(ker)) {\n",
    "  for (j in 1:length(band)) {\n",
    "      NW <- npreg(txdat = x, tydat = y, ckertype = ker[i], bw = band[j])\n",
    "      mse[i, j] <- mean((y - fitted(NW))^2)\n",
    "      if (i * j == 1) {\n",
    "        plot(x, y)\n",
    "        points(x, fitted(NW), col = n, type = \"l\", labels = paste(ker[i], band[j]))\n",
    "      } else {\n",
    "        n <- n + 1\n",
    "        points(x, fitted(NW), col = n, type = \"l\")\n",
    "      }\n",
    "    }\n",
    "}\n",
    "mse\n"
   ]
  },
  {
   "attachments": {},
   "cell_type": "markdown",
   "metadata": {},
   "source": [
    "Наименьшая ошибка 14.45"
   ]
  },
  {
   "attachments": {},
   "cell_type": "markdown",
   "metadata": {},
   "source": [
    "`ddpi`"
   ]
  },
  {
   "cell_type": "code",
   "execution_count": 53,
   "metadata": {
    "vscode": {
     "languageId": "r"
    }
   },
   "outputs": [
    {
     "name": "stdout",
     "output_type": "stream",
     "text": [
      "                   \r"
     ]
    },
    {
     "name": "stderr",
     "output_type": "stream",
     "text": [
      "Warning message in plot.xy(xy.coords(x, y), type = type, ...):\n",
      "“\"labels\" is not a graphical parameter”\n"
     ]
    },
    {
     "name": "stdout",
     "output_type": "stream",
     "text": [
      "                   \r"
     ]
    },
    {
     "data": {
      "text/html": [
       "<table class=\"dataframe\">\n",
       "<caption>A matrix: 2 × 2 of type dbl</caption>\n",
       "<tbody>\n",
       "\t<tr><td>14.6912</td><td>14.6912</td></tr>\n",
       "\t<tr><td>13.8081</td><td>13.8081</td></tr>\n",
       "</tbody>\n",
       "</table>\n"
      ],
      "text/latex": [
       "A matrix: 2 × 2 of type dbl\n",
       "\\begin{tabular}{ll}\n",
       "\t 14.6912 & 14.6912\\\\\n",
       "\t 13.8081 & 13.8081\\\\\n",
       "\\end{tabular}\n"
      ],
      "text/markdown": [
       "\n",
       "A matrix: 2 × 2 of type dbl\n",
       "\n",
       "| 14.6912 | 14.6912 |\n",
       "| 13.8081 | 13.8081 |\n",
       "\n"
      ],
      "text/plain": [
       "     [,1]    [,2]   \n",
       "[1,] 14.6912 14.6912\n",
       "[2,] 13.8081 13.8081"
      ]
     },
     "metadata": {},
     "output_type": "display_data"
    },
    {
     "data": {
      "image/png": "[encoded data removed]",
      "text/plain": [
       "plot without title"
      ]
     },
     "metadata": {
      "image/png": {
       "height": 420,
       "width": 420
      }
     },
     "output_type": "display_data"
    }
   ],
   "source": [
    "x = LifeCycleSavings$ddpi\n",
    "y = LifeCycleSavings$sr\n",
    "\n",
    "ker <- c(\"gaussian\", \"epanechnikov\")\n",
    "band <- c(\"cv.ls\", \"cv.aic\")\n",
    "mse <- array(data = NA, c(length(ker), length(band)))\n",
    "n <- 1\n",
    "y <- y[order(x)]\n",
    "x <- sort(x)\n",
    "for (i in 1:length(ker)) {\n",
    "  for (j in 1:length(band)) {\n",
    "      NW <- npreg(txdat = x, tydat = y, ckertype = ker[i], bw = band[j])\n",
    "      mse[i, j] <- mean((y - fitted(NW))^2)\n",
    "      if (i * j == 1) {\n",
    "        plot(x, y)\n",
    "        points(x, fitted(NW), col = n, type = \"l\", labels = paste(ker[i], band[j]))\n",
    "      } else {\n",
    "        n <- n + 1\n",
    "        points(x, fitted(NW), col = n, type = \"l\")\n",
    "      }\n",
    "    }\n",
    "}\n",
    "mse\n"
   ]
  },
  {
   "attachments": {},
   "cell_type": "markdown",
   "metadata": {},
   "source": [
    "Наименьшая ошибка = 13.8081"
   ]
  },
  {
   "attachments": {},
   "cell_type": "markdown",
   "metadata": {},
   "source": [
    "Возьмем переменные `ddpi` и `dpi`, так как они дают наименьшую ошибку"
   ]
  },
  {
   "attachments": {},
   "cell_type": "markdown",
   "metadata": {},
   "source": [
    "### Пункт 3\n",
    "\n",
    "На основе V1 и V2 постройте многомерную регрессию методом LOESS и линейную регрессию. Разделите случайным образом все страны на 2 группы: в одну группу отнесите примерно 80% стран, в другую - 20 %. Оцените параметры модели LOESS и линейной регрессии по большей группе и проверьте качество моделей по меньшей. Выясните, какая из построенных моделей является более точной."
   ]
  },
  {
   "cell_type": "code",
   "execution_count": 59,
   "metadata": {
    "vscode": {
     "languageId": "r"
    }
   },
   "outputs": [
    {
     "name": "stderr",
     "output_type": "stream",
     "text": [
      "Installing package into ‘/home/alexkkir/R/x86_64-pc-linux-gnu-library/3.6’\n",
      "(as ‘lib’ is unspecified)\n",
      "\n",
      "fANCOVA 0.6-1 loaded\n",
      "\n"
     ]
    }
   ],
   "source": [
    "# install.packages(\"fANCOVA\")\n",
    "library(fANCOVA)"
   ]
  },
  {
   "cell_type": "code",
   "execution_count": 119,
   "metadata": {
    "vscode": {
     "languageId": "r"
    }
   },
   "outputs": [],
   "source": [
    "# split LifeCycleSavings into train and test in ratio 80 vs 20\n",
    "set.seed(123)\n",
    "train = sample(1:nrow(LifeCycleSavings), 0.8 * nrow(LifeCycleSavings))\n",
    "test = setdiff(1:nrow(LifeCycleSavings), train)\n",
    "\n",
    "# train\n",
    "x_train = LifeCycleSavings[train, c(\"dpi\", \"ddpi\")]\n",
    "y_train = LifeCycleSavings[train, \"sr\"]\n",
    "x_test = LifeCycleSavings[test, c(\"dpi\", \"ddpi\")]\n",
    "y_test = LifeCycleSavings[test, \"sr\"]"
   ]
  },
  {
   "cell_type": "code",
   "execution_count": 123,
   "metadata": {
    "vscode": {
     "languageId": "r"
    }
   },
   "outputs": [
    {
     "data": {
      "text/plain": [
       "Call:\n",
       "loess(formula = sr ~ dpi + ddpi, data = LifeCycleSavings)\n",
       "\n",
       "Number of Observations: 50 \n",
       "Equivalent Number of Parameters: 9.94 \n",
       "Residual Standard Error: 4.133 \n",
       "Trace of smoother matrix: 11.74  (exact)\n",
       "\n",
       "Control settings:\n",
       "  span     :  0.75 \n",
       "  degree   :  2 \n",
       "  family   :  gaussian\n",
       "  surface  :  interpolate\t  cell = 0.2\n",
       "  normalize:  TRUE\n",
       " parametric:  FALSE FALSE\n",
       "drop.square:  FALSE FALSE "
      ]
     },
     "metadata": {},
     "output_type": "display_data"
    }
   ],
   "source": [
    "model <- loess(sr~dpi+ddpi, data = LifeCycleSavings)\n",
    "summary(model)"
   ]
  },
  {
   "cell_type": "code",
   "execution_count": 124,
   "metadata": {
    "vscode": {
     "languageId": "r"
    }
   },
   "outputs": [
    {
     "data": {
      "text/html": [
       "12.9715478464078"
      ],
      "text/latex": [
       "12.9715478464078"
      ],
      "text/markdown": [
       "12.9715478464078"
      ],
      "text/plain": [
       "[1] 12.97155"
      ]
     },
     "metadata": {},
     "output_type": "display_data"
    },
    {
     "data": {
      "text/html": [
       "10.3927700412604"
      ],
      "text/latex": [
       "10.3927700412604"
      ],
      "text/markdown": [
       "10.3927700412604"
      ],
      "text/plain": [
       "[1] 10.39277"
      ]
     },
     "metadata": {},
     "output_type": "display_data"
    }
   ],
   "source": [
    "mean((y_train - predict(model, x_train))^2) \n",
    "mean((y_test - predict(model, x_test))^2)"
   ]
  },
  {
   "attachments": {},
   "cell_type": "markdown",
   "metadata": {},
   "source": [
    "Получилась модель, которая имеет еще меньшую ошибку, чем модели ядровой регрессии. Теперь обучим обычную линейную регрессию"
   ]
  },
  {
   "cell_type": "code",
   "execution_count": 126,
   "metadata": {
    "vscode": {
     "languageId": "r"
    }
   },
   "outputs": [
    {
     "data": {
      "text/plain": [
       "\n",
       "Call:\n",
       "lm(formula = sr ~ dpi + ddpi, data = LifeCycleSavings)\n",
       "\n",
       "Residuals:\n",
       "    Min      1Q  Median      3Q     Max \n",
       "-7.9650 -4.0397  0.8684  2.2491  9.3145 \n",
       "\n",
       "Coefficients:\n",
       "             Estimate Std. Error t value Pr(>|t|)    \n",
       "(Intercept) 6.3598478  1.2520610   5.080 6.43e-06 ***\n",
       "dpi         0.0011949  0.0006091   1.962   0.0557 .  \n",
       "ddpi        0.5292495  0.2102883   2.517   0.0153 *  \n",
       "---\n",
       "Signif. codes:  0 ‘***’ 0.001 ‘**’ 0.01 ‘*’ 0.05 ‘.’ 0.1 ‘ ’ 1\n",
       "\n",
       "Residual standard error: 4.189 on 47 degrees of freedom\n",
       "Multiple R-squared:  0.1616,\tAdjusted R-squared:  0.1259 \n",
       "F-statistic: 4.528 on 2 and 47 DF,  p-value: 0.01591\n"
      ]
     },
     "metadata": {},
     "output_type": "display_data"
    }
   ],
   "source": [
    "# train linear model\n",
    "model <- lm(sr~dpi+ddpi, data = LifeCycleSavings)\n",
    "summary(model)"
   ]
  },
  {
   "cell_type": "code",
   "execution_count": 128,
   "metadata": {
    "vscode": {
     "languageId": "r"
    }
   },
   "outputs": [
    {
     "data": {
      "text/html": [
       "16.4476776705652"
      ],
      "text/latex": [
       "16.4476776705652"
      ],
      "text/markdown": [
       "16.4476776705652"
      ],
      "text/plain": [
       "[1] 16.44768"
      ]
     },
     "metadata": {},
     "output_type": "display_data"
    },
    {
     "data": {
      "text/html": [
       "16.6810945113456"
      ],
      "text/latex": [
       "16.6810945113456"
      ],
      "text/markdown": [
       "16.6810945113456"
      ],
      "text/plain": [
       "[1] 16.68109"
      ]
     },
     "metadata": {},
     "output_type": "display_data"
    }
   ],
   "source": [
    "mean((y_train - predict(model, x_train))^2)\n",
    "mean((y_test - predict(model, x_test))^2)"
   ]
  },
  {
   "attachments": {},
   "cell_type": "markdown",
   "metadata": {},
   "source": [
    "Получилось немного хуже, чем для LOESS. Возрасла ошибка и на тренировочной, и на тестовой выборках"
   ]
  },
  {
   "attachments": {},
   "cell_type": "markdown",
   "metadata": {},
   "source": [
    "# Задание 5\n",
    "\n",
    "Пусть дан набор точек $(x_i, y_i)_{i=1}^n$. Для описания регрессионной зависимости между $y_i$ и $x_i$ будем использовать оценку Надарая-Ватсона\n",
    "$$\n",
    "\\hat r(x)= {\\sum_{i=1}^n y_i K \\left( {x - x_i \\over h} \\right) \\over \\sum_{i=1}^n K \\left( {x - x_i \\over h}\\right)}\n",
    "$$\n",
    "с треугольным ядром\n",
    "$$\n",
    "K(x) = (1 - |x|) \\cdot \\mathbb{I} \\left[|x| \\leqslant 1\\right]\n",
    "$$\n",
    "и параметром $h > 0$. Для случая $n=6, \\ x_i = i$ вычислите сглаживающую матрицу $L$ и эффективное количество степеней свободы, если\n",
    "1. $h = 1 / 2$\n",
    "2. $h = 3 / 2$"
   ]
  },
  {
   "attachments": {},
   "cell_type": "markdown",
   "metadata": {},
   "source": [
    "### Пункт 1\n",
    "Найдем чему равно $K \\left( {x - x_i \\over h} \\right)$ при $x = x_1, \\dots x_n$\n",
    "* $x = x_i \\Rightarrow K(\\dots) = K(0) = 1$\n",
    "* $|x - x_i| \\geqslant 1 \\Rightarrow |x - x_i| \\geqslant 1 \\Rightarrow {(x - x_i) / h} \\geqslant 2 \\cdot 1 \\Rightarrow K(\\dots) = 0$\n",
    "\n",
    "Найдем чему равно значение, предсказанное регрессией:\n",
    "$$\n",
    "\\hat r(x_k) = {\\sum_{i=1}^n y_i K \\left( {x_k - x_i \\over h} \\right) \\over \\sum_{i=1}^n K \\left( {x_k - x_i \\over h}\\right)} = { y_k \\cdot 1 \\over 1} = y_k\n",
    "$$\n",
    "Таким образом, для объектов с признаками $x_1, \\dots x_n$ регрессия просто предскажет их целевые значение $y_1, \\dots y_n$, то есть она отработает как тождественное преобразование. Значит, $L = I$"
   ]
  },
  {
   "attachments": {},
   "cell_type": "markdown",
   "metadata": {},
   "source": [
    "### Пункт 2\n",
    "Найдем чему равно $K \\left( {x - x_i \\over h} \\right)$ при $x = x_1, \\dots x_n$\n",
    "* $x = x_i \\Rightarrow K(\\dots) = K(0) = 1$\n",
    "* $|x - x_i| = 1 \\Rightarrow K (\\dots) = K(1 / h) = K(2 / 3) = 1 / 3$\n",
    "* $|x - x_i| \\geqslant 2 \\Rightarrow (x -x_i) / h \\geqslant {2 \\over {3 / 2}} \\geqslant {4 / 3} \\Rightarrow K(\\dots) = 0$\n",
    "\n",
    "Найдем чему равно значение, предсказанное регрессией\n",
    "1. $k \\in \\overline{2, n - 1}$\n",
    "    $$ \n",
    "    \\hat r(x_k) = {\\sum_{i=1}^n y_i K \\left( {x_k - x_i \\over h} \\right) \\over \\sum_{i=1}^n K \\left( {x_k - x_i \\over h}\\right)} = {{1 \\over 3} y_{k - 1} + y_k + {1 \\over 3} y_{k + 1} \\over {5 \\over 3}} = {1 \\over 5} y_{k - 1} + {3 \\over 5} y_k + {1 \\over 5} y_{k + 1} \n",
    "    $$\n",
    "2. $k = 1$\n",
    "    $$\n",
    "    \\hat r(x_k) = {\\sum_{i=1}^n y_i K \\left( {x_k - x_i \\over h} \\right) \\over \\sum_{i=1}^n K \\left( {x_k - x_i \\over h}\\right)} = {y_k + {1 \\over 3} y_{k + 1} \\over {4 \\over 3}} = {3 \\over 4} y_k + {1 \\over 4} y_{k + 1}\n",
    "    $$\n",
    "2. $k = n$\n",
    "    $$\n",
    "    \\hat r(x_k) = {\\sum_{i=1}^n y_i K \\left( {x_k - x_i \\over h} \\right) \\over \\sum_{i=1}^n K \\left( {x_k - x_i \\over h}\\right)} = {{1 \\over 3} y_{k - 1} + y_k \\over {4 \\over 3}} = {1 \\over 4} y_{k - 1} + {3 \\over 4} y_k\n",
    "    $$\n",
    "\n",
    "Таким образом,\n",
    "$$\n",
    "L = \\begin{bmatrix} {3 \\over 4} & {1 \\over 4} & 0 & \\cdots & 0 & 0 & 0 \\\\ {1 \\over 5} & {3 \\over 5} & {1 \\over 5} &  \\cdots & 0 & 0 & 0 \\\\ 0 & {1 \\over 5} & {3 \\over 5} &  \\ddots & 0 & 0 & 0 \\\\ \\vdots & \\vdots & \\ddots &  \\ddots & \\vdots & \\vdots & \\vdots \\\\ 0 & 0 & 0 &  \\cdots & {3 \\over 5} & {1 \\over 5} & 0 \\\\ 0 & 0 & 0 &  \\cdots & {1 \\over 5} & {3 \\over 5} & {1 \\over 5} \\\\ 0 & 0 & 0 &  \\cdots & 0 & {1 \\over 4} & {3 \\over 4} \\\\ \\end{bmatrix}\n",
    "$$\n",
    "что непосредственно следует из определения линейного сглаживателя:\n",
    "$$\n",
    "\\hat {\\bar y} = L \\bar y\n",
    "$$"
   ]
  },
  {
   "attachments": {},
   "cell_type": "markdown",
   "metadata": {},
   "source": []
  }
 ],
 "metadata": {
  "kernelspec": {
   "display_name": "R",
   "language": "R",
   "name": "ir"
  },
  "language_info": {
   "codemirror_mode": "r",
   "file_extension": ".r",
   "mimetype": "text/x-r-source",
   "name": "R",
   "pygments_lexer": "r",
   "version": "3.6.3"
  },
  "orig_nbformat": 4
 },
 "nbformat": 4,
 "nbformat_minor": 2
}
